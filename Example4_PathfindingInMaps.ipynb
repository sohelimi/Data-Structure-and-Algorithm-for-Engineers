{
 "cells": [
  {
   "cell_type": "markdown",
   "id": "9b12745c",
   "metadata": {},
   "source": [
    "# Example 4: Pathfinding in Maps\n",
    "\n",
    "## Description:\n",
    "Find the shortest path between two locations, similar to Google Maps."
   ]
  },
  {
   "cell_type": "markdown",
   "id": "e56ea6c0",
   "metadata": {},
   "source": [
    "## Data Structure/Algorithm:\n",
    "Graphs and Dijkstra's Algorithm."
   ]
  },
  {
   "cell_type": "markdown",
   "id": "f6677aa6",
   "metadata": {},
   "source": [
    "### Visual Representation:\n",
    "\n",
    "![Visualization](https://upload.wikimedia.org/wikipedia/commons/5/57/Dijkstra_Animation.gif)"
   ]
  },
  {
   "cell_type": "markdown",
   "id": "87e5f4b4",
   "metadata": {},
   "source": [
    "## Implementation"
   ]
  },
  {
   "cell_type": "code",
   "execution_count": null,
   "id": "db957632",
   "metadata": {},
   "outputs": [],
   "source": [
    "\n",
    "import heapq\n",
    "\n",
    "def dijkstra_path(graph, start, end):\n",
    "    pq = [(0, start, [])]  # (distance, current_node, path)\n",
    "    visited = set()\n",
    "    while pq:\n",
    "        (cost, node, path) = heapq.heappop(pq)\n",
    "        if node in visited:\n",
    "            continue\n",
    "        path = path + [node]\n",
    "        visited.add(node)\n",
    "        if node == end:\n",
    "            return cost, path\n",
    "        for neighbor, weight in graph[node].items():\n",
    "            if neighbor not in visited:\n",
    "                heapq.heappush(pq, (cost + weight, neighbor, path))\n",
    "    return float(\"inf\"), []\n",
    "\n",
    "# Example usage\n",
    "map_graph = {\n",
    "    \"A\": {\"B\": 1, \"C\": 4},\n",
    "    \"B\": {\"A\": 1, \"C\": 2, \"D\": 6},\n",
    "    \"C\": {\"A\": 4, \"B\": 2, \"D\": 3},\n",
    "    \"D\": {\"B\": 6, \"C\": 3}\n",
    "}\n",
    "\n",
    "start, end = \"A\", \"D\"\n",
    "cost, path = dijkstra_path(map_graph, start, end)\n",
    "print(f\"Shortest path from {start} to {end}: Cost = {cost}, Path = {path}\")\n"
   ]
  },
  {
   "cell_type": "markdown",
   "id": "4d84a6fd",
   "metadata": {},
   "source": [
    "## Quiz"
   ]
  },
  {
   "cell_type": "markdown",
   "id": "3fa77498",
   "metadata": {},
   "source": [
    "\n",
    "1. What is the main advantage of Dijkstra's Algorithm?\n",
    "   - A. It finds the shortest path in a weighted graph.\n",
    "   - B. It works with negative weights.\n",
    "   - C. It computes all-pairs shortest paths.\n",
    "\n",
    "2. What is the time complexity of Dijkstra's Algorithm using a priority queue?\n",
    "   - A. O(V^2)\n",
    "   - B. O((V + E) log V)\n",
    "   - C. O(VE)\n",
    "\n",
    "### Answers:\n",
    "1. A. It finds the shortest path in a weighted graph.\n",
    "2. B. O((V + E) log V)\n"
   ]
  },
  {
   "cell_type": "markdown",
   "id": "70f0a2e2",
   "metadata": {},
   "source": [
    "## Exercise"
   ]
  },
  {
   "cell_type": "markdown",
   "id": "ccd88ef6",
   "metadata": {},
   "source": [
    "\n",
    "### Problem Statement:\n",
    "Write a function to find the shortest path between two locations in a graph using Dijkstra's Algorithm.\n",
    "\n",
    "### Example:\n",
    "Input:\n",
    "- Graph: {'A': {'B': 1, 'C': 4}, 'B': {'A': 1, 'C': 2}, 'C': {'A': 4, 'B': 2}}\n",
    "- Start: 'A', End: 'C'\n",
    "\n",
    "Output:\n",
    "- Cost: 3\n",
    "- Path: ['A', 'B', 'C']\n"
   ]
  }
 ],
 "metadata": {},
 "nbformat": 4,
 "nbformat_minor": 5
}
