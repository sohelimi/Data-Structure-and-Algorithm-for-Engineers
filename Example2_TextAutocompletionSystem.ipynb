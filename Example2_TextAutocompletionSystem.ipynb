{
 "cells": [
  {
   "cell_type": "markdown",
   "id": "5d8a3728",
   "metadata": {},
   "source": [
    "# Example 2: Text Autocompletion System\n",
    "\n",
    "## Description:\n",
    "Use a Trie to implement an autocompletion system similar to what is used in search engines."
   ]
  },
  {
   "cell_type": "markdown",
   "id": "1c56cc07",
   "metadata": {},
   "source": [
    "## Data Structure/Algorithm:\n",
    "Trie data structure for prefix-based searches."
   ]
  },
  {
   "cell_type": "markdown",
   "id": "9c5fd824",
   "metadata": {},
   "source": [
    "### Visual Representation:\n",
    "\n",
    "![Visualization](https://upload.wikimedia.org/wikipedia/commons/b/bd/Trie_example.svg)"
   ]
  },
  {
   "cell_type": "markdown",
   "id": "4e746607",
   "metadata": {},
   "source": [
    "## Implementation"
   ]
  },
  {
   "cell_type": "code",
   "execution_count": null,
   "id": "fd10f175",
   "metadata": {},
   "outputs": [],
   "source": [
    "\n",
    "class TrieNode:\n",
    "    def __init__(self):\n",
    "        self.children = {}\n",
    "        self.is_end_of_word = False\n",
    "\n",
    "class Trie:\n",
    "    def __init__(self):\n",
    "        self.root = TrieNode()\n",
    "\n",
    "    def insert(self, word):\n",
    "        node = self.root\n",
    "        for char in word:\n",
    "            if char not in node.children:\n",
    "                node.children[char] = TrieNode()\n",
    "            node = node.children[char]\n",
    "        node.is_end_of_word = True\n",
    "\n",
    "    def search(self, prefix):\n",
    "        node = self.root\n",
    "        for char in prefix:\n",
    "            if char not in node.children:\n",
    "                return []\n",
    "            node = node.children[char]\n",
    "        return self._find_words_from_node(node, prefix)\n",
    "\n",
    "    def _find_words_from_node(self, node, prefix):\n",
    "        results = []\n",
    "        if node.is_end_of_word:\n",
    "            results.append(prefix)\n",
    "        for char, child_node in node.children.items():\n",
    "            results.extend(self._find_words_from_node(child_node, prefix + char))\n",
    "        return results\n",
    "\n",
    "# Example usage\n",
    "trie = Trie()\n",
    "words = [\"apple\", \"app\", \"apricot\", \"banana\", \"bat\", \"ball\"]\n",
    "for word in words:\n",
    "    trie.insert(word)\n",
    "\n",
    "print(\"Words starting with 'ap':\", trie.search(\"ap\"))\n",
    "print(\"Words starting with 'ba':\", trie.search(\"ba\"))\n"
   ]
  },
  {
   "cell_type": "markdown",
   "id": "36c68612",
   "metadata": {},
   "source": [
    "## Quiz"
   ]
  },
  {
   "cell_type": "markdown",
   "id": "551a98ef",
   "metadata": {},
   "source": [
    "\n",
    "1. What is the primary advantage of using a Trie for text autocompletion?\n",
    "   - A. It is faster for prefix-based searches.\n",
    "   - B. It requires less memory than arrays.\n",
    "   - C. It eliminates the need for sorting.\n",
    "\n",
    "2. What is the time complexity for searching a prefix in a Trie?\n",
    "   - A. O(n)\n",
    "   - B. O(k), where k is the length of the prefix\n",
    "   - C. O(1)\n",
    "\n",
    "### Answers:\n",
    "1. A. It is faster for prefix-based searches.\n",
    "2. B. O(k), where k is the length of the prefix\n"
   ]
  },
  {
   "cell_type": "markdown",
   "id": "7866c310",
   "metadata": {},
   "source": [
    "## Exercise"
   ]
  },
  {
   "cell_type": "markdown",
   "id": "9af989f4",
   "metadata": {},
   "source": [
    "\n",
    "### Problem Statement:\n",
    "Write a function using a Trie to suggest autocompletions for a given prefix.\n",
    "\n",
    "### Example:\n",
    "Input:\n",
    "- Words: ['cat', 'car', 'cart', 'dog', 'dot']\n",
    "- Prefix: 'ca'\n",
    "\n",
    "Output:\n",
    "- Suggestions: ['cat', 'car', 'cart']\n"
   ]
  }
 ],
 "metadata": {},
 "nbformat": 4,
 "nbformat_minor": 5
}
