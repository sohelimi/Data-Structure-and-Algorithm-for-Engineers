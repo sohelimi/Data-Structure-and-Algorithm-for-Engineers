{
 "cells": [
  {
   "cell_type": "markdown",
   "id": "ff901c97",
   "metadata": {},
   "source": [
    "# Chapter 24: Computational Geometry\n",
    "\n",
    "## Concept: Algorithms for solving problems involving geometric objects like points, lines, and polygons."
   ]
  },
  {
   "cell_type": "markdown",
   "id": "b6aebd30",
   "metadata": {},
   "source": [
    "### Algorithms:\n",
    "\n",
    "- **Convex Hull: Finding the outer boundary of a set of points**\n",
    "\n",
    "- **Line Intersection**"
   ]
  },
  {
   "cell_type": "markdown",
   "id": "5a81acc6",
   "metadata": {},
   "source": [
    "### Visual Representation:\n",
    "\n",
    "Add a visual representation of the algorithms here.\n"
   ]
  },
  {
   "cell_type": "markdown",
   "id": "07b12768",
   "metadata": {},
   "source": [
    "## Python Code Examples"
   ]
  },
  {
   "cell_type": "markdown",
   "id": "2f9c2d38",
   "metadata": {},
   "source": [
    "### Graham's Scan for Convex Hull"
   ]
  },
  {
   "cell_type": "code",
   "execution_count": null,
   "id": "193d33e9",
   "metadata": {},
   "outputs": [],
   "source": [
    "\n",
    "def graham_scan(points):\n",
    "    def orientation(p, q, r):\n",
    "        val = (q[1] - p[1]) * (r[0] - q[0]) - (q[0] - p[0]) * (r[1] - q[1])\n",
    "        return 0 if val == 0 else (1 if val > 0 else -1)\n",
    "\n",
    "    points = sorted(points, key=lambda x: (x[0], x[1]))\n",
    "    lower = []\n",
    "    for p in points:\n",
    "        while len(lower) >= 2 and orientation(lower[-2], lower[-1], p) != -1:\n",
    "            lower.pop()\n",
    "        lower.append(p)\n",
    "\n",
    "    upper = []\n",
    "    for p in reversed(points):\n",
    "        while len(upper) >= 2 and orientation(upper[-2], upper[-1], p) != -1:\n",
    "            upper.pop()\n",
    "        upper.append(p)\n",
    "\n",
    "    return lower[:-1] + upper[:-1]\n"
   ]
  },
  {
   "cell_type": "markdown",
   "id": "47d20160",
   "metadata": {},
   "source": [
    "## Quiz"
   ]
  },
  {
   "cell_type": "markdown",
   "id": "96fb05e9",
   "metadata": {},
   "source": [
    "\n",
    "1. What is the time complexity of Graham's scan for Convex Hull?\n",
    "   - A. O(n^2)\n",
    "   - B. O(n log n)\n",
    "   - C. O(log n)\n",
    "\n",
    "2. What is the key property used to determine the convex hull boundary?\n",
    "   - A. Orientation of points\n",
    "   - B. Distance between points\n",
    "   - C. Sorting by y-coordinate\n",
    "\n",
    "Answers:\n",
    "1. B. O(n log n)\n",
    "2. A. Orientation of points\n"
   ]
  },
  {
   "cell_type": "markdown",
   "id": "90132953",
   "metadata": {},
   "source": [
    "## Exercise"
   ]
  },
  {
   "cell_type": "markdown",
   "id": "316acbc3",
   "metadata": {},
   "source": [
    "\n",
    "### Problem Statement:\n",
    "Write a function to calculate the Convex Hull of a given set of points.\n",
    "\n",
    "### Example:\n",
    "Input:\n",
    "Points: [(0, 0), (1, 1), (2, 2), (0, 2), (2, 0)]\n",
    "\n",
    "Output:\n",
    "Convex Hull: [(0, 0), (2, 0), (2, 2), (0, 2)]\n"
   ]
  }
 ],
 "metadata": {
  "kernelspec": {
   "display_name": "Python 3 (ipykernel)",
   "language": "python",
   "name": "python3"
  },
  "language_info": {
   "codemirror_mode": {
    "name": "ipython",
    "version": 3
   },
   "file_extension": ".py",
   "mimetype": "text/x-python",
   "name": "python",
   "nbconvert_exporter": "python",
   "pygments_lexer": "ipython3",
   "version": "3.11.7"
  }
 },
 "nbformat": 4,
 "nbformat_minor": 5
}
