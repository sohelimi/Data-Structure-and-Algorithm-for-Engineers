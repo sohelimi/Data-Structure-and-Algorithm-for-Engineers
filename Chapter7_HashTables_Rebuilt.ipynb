{
 "cells": [
  {
   "cell_type": "markdown",
   "id": "9ce2db71",
   "metadata": {},
   "source": [
    "# Chapter 7: Hash Tables\n",
    "\n",
    "## Concept: Hash Functions and Collision Handling\n",
    "\n",
    "A **hash table** is a data structure that provides fast access to elements using a **hash function**. \n",
    "It maps keys to values by computing an index in an array where the value is stored.\n",
    "\n",
    "### Key Concepts:\n",
    "1. **Hash Function**: A function that maps a key to a fixed-size integer, which serves as an index in the array.\n",
    "2. **Collision Handling**: Situations where two keys produce the same hash (index).\n",
    "   - **Chaining**: Handle collisions by storing multiple values at the same index using a linked list or another structure.\n",
    "   - **Open Addressing**: Handle collisions by finding another open slot in the array (e.g., linear probing).\n",
    "\n",
    "### Real-World Applications:\n",
    "- **Caching**: Fast retrieval of frequently used data.\n",
    "- **Dictionaries**: Fast key-value lookups.\n",
    "- **Databases**: Efficient indexing mechanisms.\n"
   ]
  },
  {
   "cell_type": "markdown",
   "id": "10d1da6d",
   "metadata": {},
   "source": [
    "### Visual Representation: Hash Table with Chaining\n",
    "\n",
    "![Hash Table with Chaining](https://upload.wikimedia.org/wikipedia/commons/d/d0/Hash_table_5_0_1_1_1_1_0_LL.svg)\n",
    "\n",
    "In this diagram, each bucket uses a linked list to store elements that map to the same index."
   ]
  },
  {
   "cell_type": "markdown",
   "id": "7e7e5765",
   "metadata": {},
   "source": [
    "## Implementation: Basic Hash Table with Chaining\n",
    "\n",
    "We will implement a hash table using the chaining technique to handle collisions."
   ]
  },
  {
   "cell_type": "code",
   "execution_count": null,
   "id": "b30a3d38",
   "metadata": {},
   "outputs": [],
   "source": [
    "# Basic Hash Table Implementation with Chaining\n",
    "class HashTable:\n",
    "    def __init__(self, size):\n",
    "        self.size = size\n",
    "        self.table = [[] for _ in range(size)]\n",
    "\n",
    "    def hash_function(self, key):\n",
    "        # Simple hash function using modulus operator\n",
    "        return hash(key) % self.size\n",
    "\n",
    "    def insert(self, key, value):\n",
    "        index = self.hash_function(key)\n",
    "        # Check if the key already exists in the bucket\n",
    "        for pair in self.table[index]:\n",
    "            if pair[0] == key:\n",
    "                pair[1] = value\n",
    "                return\n",
    "        # If key does not exist, append the key-value pair\n",
    "        self.table[index].append([key, value])\n",
    "\n",
    "    def retrieve(self, key):\n",
    "        index = self.hash_function(key)\n",
    "        for pair in self.table[index]:\n",
    "            if pair[0] == key:\n",
    "                return pair[1]\n",
    "        return None  # Key not found\n",
    "\n",
    "    def display(self):\n",
    "        for i, bucket in enumerate(self.table):\n",
    "            print(f\"Index {i}: {bucket}\")\n",
    "\n",
    "# Example Usage\n",
    "ht = HashTable(5)\n",
    "ht.insert(\"apple\", 10)\n",
    "ht.insert(\"banana\", 20)\n",
    "ht.insert(\"orange\", 30)\n",
    "ht.insert(\"grape\", 40)\n",
    "ht.insert(\"cherry\", 50)\n",
    "ht.display()\n",
    "print(\"Retrieve 'apple':\", ht.retrieve(\"apple\"))\n",
    "print(\"Retrieve 'banana':\", ht.retrieve(\"banana\"))\n"
   ]
  },
  {
   "cell_type": "markdown",
   "id": "9d489110",
   "metadata": {},
   "source": [
    "## Applications of Hash Tables\n",
    "\n",
    "1. **Caching**:\n",
    "   - Hash tables are used in caching mechanisms to quickly retrieve data.\n",
    "   - Example: Browsers cache frequently visited websites using hash tables.\n",
    "\n",
    "2. **Fast Lookups**:\n",
    "   - Python's dictionary (`dict`) is implemented using a hash table.\n",
    "   - Example: `my_dict['key']` retrieves the value associated with `key` in O(1) time.\n",
    "\n",
    "3. **Databases**:\n",
    "   - Hash tables are used in database indexing to quickly locate records.\n"
   ]
  },
  {
   "cell_type": "markdown",
   "id": "57cbff4f",
   "metadata": {},
   "source": [
    "## Quiz\n",
    "\n",
    "1. What is the purpose of a hash function in a hash table?\n",
    "   - A. To sort the keys.\n",
    "   - B. To compute an index for storing/retrieving values.\n",
    "   - C. To handle collisions.\n",
    "\n",
    "2. Which collision handling technique uses linked lists at each index?\n",
    "   - A. Chaining\n",
    "   - B. Open Addressing\n",
    "   - C. Probing\n",
    "\n",
    "3. Which of the following is NOT an application of hash tables?\n",
    "   - A. Caching\n",
    "   - B. Sorting large datasets\n",
    "   - C. Fast lookups in dictionaries\n",
    "\n",
    "### Answers:\n",
    "1. B. To compute an index for storing/retrieving values.\n",
    "2. A. Chaining\n",
    "3. B. Sorting large datasets\n"
   ]
  },
  {
   "cell_type": "markdown",
   "id": "d578036f",
   "metadata": {},
   "source": [
    "## Exercise: Implement a Phonebook with Hashing\n",
    "\n",
    "### Problem Statement\n",
    "Create a phonebook using a hash table. The phonebook should allow the user to:\n",
    "1. Add a new contact with a name and phone number.\n",
    "2. Retrieve the phone number for a given contact name.\n",
    "3. Display all contacts.\n",
    "\n",
    "### Example Usage:\n",
    "- Add: `insert(\"Alice\", \"123-456-7890\")`\n",
    "- Retrieve: `retrieve(\"Alice\")` → `123-456-7890`\n"
   ]
  },
  {
   "cell_type": "code",
   "execution_count": null,
   "id": "c79c0854",
   "metadata": {},
   "outputs": [],
   "source": [
    "# Phonebook Implementation Using Hash Table\n",
    "class Phonebook:\n",
    "    def __init__(self, size):\n",
    "        self.hash_table = HashTable(size)\n",
    "\n",
    "    def add_contact(self, name, phone_number):\n",
    "        self.hash_table.insert(name, phone_number)\n",
    "\n",
    "    def get_contact(self, name):\n",
    "        return self.hash_table.retrieve(name)\n",
    "\n",
    "    def display_contacts(self):\n",
    "        self.hash_table.display()\n",
    "\n",
    "# Example Usage\n",
    "phonebook = Phonebook(10)\n",
    "phonebook.add_contact(\"Alice\", \"123-456-7890\")\n",
    "phonebook.add_contact(\"Bob\", \"987-654-3210\")\n",
    "phonebook.add_contact(\"Charlie\", \"555-123-4567\")\n",
    "\n",
    "print(\"Phonebook Contacts:\")\n",
    "phonebook.display_contacts()\n",
    "print(\"Retrieve Alice's Number:\", phonebook.get_contact(\"Alice\"))\n",
    "print(\"Retrieve Bob's Number:\", phonebook.get_contact(\"Bob\"))\n"
   ]
  }
 ],
 "metadata": {
  "kernelspec": {
   "display_name": "Python 3 (ipykernel)",
   "language": "python",
   "name": "python3"
  },
  "language_info": {
   "codemirror_mode": {
    "name": "ipython",
    "version": 3
   },
   "file_extension": ".py",
   "mimetype": "text/x-python",
   "name": "python",
   "nbconvert_exporter": "python",
   "pygments_lexer": "ipython3",
   "version": "3.11.7"
  }
 },
 "nbformat": 4,
 "nbformat_minor": 5
}
