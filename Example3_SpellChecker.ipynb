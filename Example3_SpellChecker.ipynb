{
 "cells": [
  {
   "cell_type": "markdown",
   "id": "6364349b",
   "metadata": {},
   "source": [
    "# Example 3: Spell Checker\n",
    "\n",
    "## Description:\n",
    "A Spell Checker application that suggests correct spellings for a word."
   ]
  },
  {
   "cell_type": "markdown",
   "id": "2022e1a4",
   "metadata": {},
   "source": [
    "## Data Structure/Algorithm:\n",
    "Hash Table for storing a dictionary of words, and Edit Distance algorithm to find closest matches."
   ]
  },
  {
   "cell_type": "markdown",
   "id": "68e230ac",
   "metadata": {},
   "source": [
    "### Visual Representation:\n",
    "\n",
    "![Visualization](https://upload.wikimedia.org/wikipedia/commons/8/8b/Edit_distance_example.svg)"
   ]
  },
  {
   "cell_type": "markdown",
   "id": "3a271e79",
   "metadata": {},
   "source": [
    "## Implementation"
   ]
  },
  {
   "cell_type": "code",
   "execution_count": null,
   "id": "b151fe26",
   "metadata": {},
   "outputs": [],
   "source": [
    "\n",
    "import difflib\n",
    "\n",
    "class SpellChecker:\n",
    "    def __init__(self, dictionary):\n",
    "        self.dictionary = set(dictionary)\n",
    "\n",
    "    def suggest(self, word):\n",
    "        suggestions = difflib.get_close_matches(word, self.dictionary, n=3, cutoff=0.6)\n",
    "        return suggestions\n",
    "\n",
    "# Example usage\n",
    "dictionary = [\"apple\", \"banana\", \"grape\", \"orange\", \"watermelon\"]\n",
    "spell_checker = SpellChecker(dictionary)\n",
    "\n",
    "word = \"appel\"\n",
    "print(f\"Suggestions for '{word}':\", spell_checker.suggest(word))\n"
   ]
  },
  {
   "cell_type": "markdown",
   "id": "4829f679",
   "metadata": {},
   "source": [
    "## Quiz"
   ]
  },
  {
   "cell_type": "markdown",
   "id": "73229df5",
   "metadata": {},
   "source": [
    "\n",
    "1. What data structure is typically used to store a dictionary of words in a spell checker?\n",
    "   - A. Array\n",
    "   - B. Hash Table\n",
    "   - C. Linked List\n",
    "\n",
    "2. What algorithm is commonly used to calculate the similarity between two words?\n",
    "   - A. Binary Search\n",
    "   - B. Edit Distance\n",
    "   - C. Depth-First Search (DFS)\n",
    "\n",
    "### Answers:\n",
    "1. B. Hash Table\n",
    "2. B. Edit Distance\n"
   ]
  },
  {
   "cell_type": "markdown",
   "id": "b26ff4cd",
   "metadata": {},
   "source": [
    "## Exercise"
   ]
  },
  {
   "cell_type": "markdown",
   "id": "f88241cc",
   "metadata": {},
   "source": [
    "\n",
    "### Problem Statement:\n",
    "Write a spell checker that suggests the correct spelling of a word from a given dictionary.\n",
    "\n",
    "### Example:\n",
    "Input:\n",
    "- Dictionary: ['apple', 'banana', 'grape']\n",
    "- Word: 'appel'\n",
    "\n",
    "Output:\n",
    "- Suggestions: ['apple']\n"
   ]
  }
 ],
 "metadata": {
  "kernelspec": {
   "display_name": "Python 3 (ipykernel)",
   "language": "python",
   "name": "python3"
  },
  "language_info": {
   "codemirror_mode": {
    "name": "ipython",
    "version": 3
   },
   "file_extension": ".py",
   "mimetype": "text/x-python",
   "name": "python",
   "nbconvert_exporter": "python",
   "pygments_lexer": "ipython3",
   "version": "3.11.7"
  }
 },
 "nbformat": 4,
 "nbformat_minor": 5
}
