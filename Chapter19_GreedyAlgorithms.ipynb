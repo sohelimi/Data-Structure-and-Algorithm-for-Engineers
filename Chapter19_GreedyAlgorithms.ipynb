{
 "cells": [
  {
   "cell_type": "markdown",
   "id": "270360e8",
   "metadata": {},
   "source": [
    "# Chapter 19: Greedy Algorithms\n",
    "\n",
    "## Concept: Making Optimal Local Choices\n",
    "\n",
    "A **greedy algorithm** makes the optimal choice at each step with the hope of finding the global optimum.\n",
    "\n",
    "### Key Properties:\n",
    "1. **Greedy Choice Property**:\n",
    "   - A global optimal solution can be reached by choosing the local optimum.\n",
    "2. **Optimal Substructure**:\n",
    "   - A problem can be broken into sub-problems, and solutions to sub-problems lead to the solution of the main problem.\n",
    "\n",
    "### Applications:\n",
    "1. **Scheduling Problems**: Optimally schedule tasks or activities.\n",
    "2. **Compression Algorithms**: Huffman coding for file compression.\n"
   ]
  },
  {
   "cell_type": "markdown",
   "id": "80b2eaca",
   "metadata": {},
   "source": [
    "### Visual Representation: Greedy Algorithm\n",
    "\n",
    "Below is a visualization of the greedy approach for selecting activities:\n",
    "\n",
    "![Greedy Algorithm Visualization](https://upload.wikimedia.org/wikipedia/commons/d/d8/Greedy_algorithm_activity_selection_example.svg)\n",
    "\n",
    "This diagram demonstrates how the activity selection problem is solved using a greedy approach.\n"
   ]
  },
  {
   "cell_type": "markdown",
   "id": "26664a91",
   "metadata": {},
   "source": [
    "## Implementation: Activity Selection Problem\n",
    "\n",
    "We will implement the activity selection problem using the greedy approach."
   ]
  },
  {
   "cell_type": "code",
   "execution_count": 1,
   "id": "903a7d0c",
   "metadata": {},
   "outputs": [
    {
     "name": "stdout",
     "output_type": "stream",
     "text": [
      "Selected Activities (start, end): [(1, 2), (3, 4), (5, 7), (8, 9)]\n"
     ]
    }
   ],
   "source": [
    "# Activity Selection Problem\n",
    "def activity_selection(start, end):\n",
    "    n = len(start)\n",
    "    activities = sorted(zip(start, end), key=lambda x: x[1])  # Sort by end time\n",
    "\n",
    "    selected_activities = []\n",
    "    last_end_time = -1\n",
    "\n",
    "    for s, e in activities:\n",
    "        if s >= last_end_time:\n",
    "            selected_activities.append((s, e))\n",
    "            last_end_time = e\n",
    "\n",
    "    return selected_activities\n",
    "\n",
    "# Example Usage\n",
    "start_times = [1, 3, 0, 5, 8, 5]\n",
    "end_times = [2, 4, 6, 7, 9, 9]\n",
    "\n",
    "selected = activity_selection(start_times, end_times)\n",
    "print(\"Selected Activities (start, end):\", selected)\n"
   ]
  },
  {
   "cell_type": "markdown",
   "id": "ba7a1c90",
   "metadata": {},
   "source": [
    "## Implementation: Huffman Coding\n",
    "\n",
    "Huffman coding is a greedy algorithm used for compression. It assigns shorter codes to frequently occurring characters."
   ]
  },
  {
   "cell_type": "code",
   "execution_count": 3,
   "id": "e29b1924",
   "metadata": {},
   "outputs": [
    {
     "name": "stdout",
     "output_type": "stream",
     "text": [
      "Huffman Codes: {'f': '0', 'c': '100', 'd': '101', 'a': '1100', 'b': '1101', 'e': '111'}\n"
     ]
    }
   ],
   "source": [
    "# Huffman Coding Implementation\n",
    "import heapq\n",
    "from collections import defaultdict\n",
    "\n",
    "class Node:\n",
    "    def __init__(self, char, freq):\n",
    "        self.char = char\n",
    "        self.freq = freq\n",
    "        self.left = None\n",
    "        self.right = None\n",
    "\n",
    "    def __lt__(self, other):\n",
    "        return self.freq < other.freq\n",
    "\n",
    "def huffman_coding(char_freq):\n",
    "    heap = [Node(char, freq) for char, freq in char_freq.items()]\n",
    "    heapq.heapify(heap)\n",
    "\n",
    "    while len(heap) > 1:\n",
    "        left = heapq.heappop(heap)\n",
    "        right = heapq.heappop(heap)\n",
    "        merged = Node(None, left.freq + right.freq)\n",
    "        merged.left = left\n",
    "        merged.right = right\n",
    "        heapq.heappush(heap, merged)\n",
    "\n",
    "    def build_codes(node, current_code, codes):\n",
    "        if node is None:\n",
    "            return\n",
    "        if node.char is not None:\n",
    "            codes[node.char] = current_code\n",
    "        build_codes(node.left, current_code + \"0\", codes)\n",
    "        build_codes(node.right, current_code + \"1\", codes)\n",
    "\n",
    "    root = heap[0]\n",
    "    codes = {}\n",
    "    build_codes(root, \"\", codes)\n",
    "    return codes\n",
    "\n",
    "# Example Usage\n",
    "char_freq = {'a': 5, 'b': 9, 'c': 12, 'd': 13, 'e': 16, 'f': 45}\n",
    "codes = huffman_coding(char_freq)\n",
    "print(\"Huffman Codes:\", codes)\n"
   ]
  },
  {
   "cell_type": "markdown",
   "id": "8eec0798",
   "metadata": {},
   "source": [
    "## Quiz\n",
    "\n",
    "1. What is the key property of a greedy algorithm?\n",
    "   - A. It always finds the global optimum without recursion.\n",
    "   - B. It makes the locally optimal choice at each step.\n",
    "   - C. It guarantees O(1) time complexity.\n",
    "\n",
    "2. Which problem is a classic example of a greedy algorithm?\n",
    "   - A. Matrix Multiplication\n",
    "   - B. Activity Selection\n",
    "   - C. Fibonacci Sequence\n",
    "\n",
    "3. What does Huffman Coding optimize?\n",
    "   - A. Sorting\n",
    "   - B. Compression\n",
    "   - C. Searching\n",
    "\n",
    "### Answers:\n",
    "1. B. It makes the locally optimal choice at each step.\n",
    "2. B. Activity Selection\n",
    "3. B. Compression\n"
   ]
  },
  {
   "cell_type": "markdown",
   "id": "46751807",
   "metadata": {},
   "source": [
    "## Exercise: Solve the Coin Change Problem\n",
    "\n",
    "### Problem Statement\n",
    "Write a greedy algorithm to find the minimum number of coins needed to make a given amount.\n",
    "\n",
    "### Example:\n",
    "Coins: `[1, 2, 5]`\n",
    "Amount: `11`\n",
    "Output: `3` (5 + 5 + 1)\n",
    "\n",
    "### Solution:\n"
   ]
  },
  {
   "cell_type": "code",
   "execution_count": 5,
   "id": "132732c0",
   "metadata": {},
   "outputs": [
    {
     "name": "stdout",
     "output_type": "stream",
     "text": [
      "Minimum coins needed: 3\n"
     ]
    }
   ],
   "source": [
    "# Greedy Coin Change Problem\n",
    "def coin_change(coins, amount):\n",
    "    coins = sorted(coins, reverse=True)\n",
    "    count = 0\n",
    "\n",
    "    for coin in coins:\n",
    "        while amount >= coin:\n",
    "            amount -= coin\n",
    "            count += 1\n",
    "\n",
    "    return count if amount == 0 else -1\n",
    "\n",
    "# Example Usage\n",
    "coins = [1, 2, 5]\n",
    "amount = 11\n",
    "print(\"Minimum coins needed:\", coin_change(coins, amount))\n"
   ]
  },
  {
   "cell_type": "code",
   "execution_count": null,
   "id": "5a3e26fc-88e3-403c-bdd9-ec46aa15589c",
   "metadata": {},
   "outputs": [],
   "source": []
  }
 ],
 "metadata": {
  "kernelspec": {
   "display_name": "Python 3 (ipykernel)",
   "language": "python",
   "name": "python3"
  },
  "language_info": {
   "codemirror_mode": {
    "name": "ipython",
    "version": 3
   },
   "file_extension": ".py",
   "mimetype": "text/x-python",
   "name": "python",
   "nbconvert_exporter": "python",
   "pygments_lexer": "ipython3",
   "version": "3.11.7"
  }
 },
 "nbformat": 4,
 "nbformat_minor": 5
}
