{
 "cells": [
  {
   "cell_type": "markdown",
   "id": "a91708f3",
   "metadata": {},
   "source": [
    "# Chapter 13: Sets and Disjoint Sets\n",
    "\n",
    "## Concept: Set Data Structures and Union-Find\n",
    "\n",
    "### Set Data Structures:\n",
    "A **set** is a collection of unique elements that supports operations like union, intersection, difference, and membership checks.\n",
    "\n",
    "### Disjoint Sets:\n",
    "A **disjoint set** is a collection of sets where no element appears in more than one set.\n",
    "\n",
    "#### Key Operations:\n",
    "1. **Find**: Determine which set an element belongs to.\n",
    "2. **Union**: Combine two sets into one.\n",
    "\n",
    "#### Optimizations:\n",
    "1. **Path Compression**:\n",
    "   - Flattens the tree structure during `find` operations for efficiency.\n",
    "2. **Union by Rank**:\n",
    "   - Ensures the tree remains shallow during `union` operations.\n",
    "\n",
    "### Real-World Applications:\n",
    "- **Network Connectivity**: Check if nodes in a network are connected.\n",
    "- **Cycle Detection in Graphs**: Efficiently determine if adding an edge creates a cycle.\n"
   ]
  },
  {
   "cell_type": "markdown",
   "id": "89077d5e",
   "metadata": {},
   "source": [
    "### Visual Representation: Union-Find with Path Compression\n",
    "\n",
    "![Union-Find Example](https://upload.wikimedia.org/wikipedia/commons/d/dc/Union_find_disjoint_sets_example.png)\n",
    "\n",
    "This diagram shows how union-find operations combine sets and optimize the tree structure with path compression."
   ]
  },
  {
   "cell_type": "markdown",
   "id": "1c0f6f15",
   "metadata": {},
   "source": [
    "## Implementation: Union-Find with Path Compression\n",
    "\n",
    "We will implement a disjoint set data structure with union and find operations, including path compression and union by rank."
   ]
  },
  {
   "cell_type": "code",
   "execution_count": null,
   "id": "766c7ead",
   "metadata": {},
   "outputs": [],
   "source": [
    "# Union-Find Implementation in Python\n",
    "class DisjointSet:\n",
    "    def __init__(self, n):\n",
    "        self.parent = list(range(n))\n",
    "        self.rank = [0] * n\n",
    "\n",
    "    def find(self, x):\n",
    "        if self.parent[x] != x:\n",
    "            self.parent[x] = self.find(self.parent[x])  # Path compression\n",
    "        return self.parent[x]\n",
    "\n",
    "    def union(self, x, y):\n",
    "        root_x = self.find(x)\n",
    "        root_y = self.find(y)\n",
    "\n",
    "        if root_x != root_y:\n",
    "            # Union by rank\n",
    "            if self.rank[root_x] > self.rank[root_y]:\n",
    "                self.parent[root_y] = root_x\n",
    "            elif self.rank[root_x] < self.rank[root_y]:\n",
    "                self.parent[root_x] = root_y\n",
    "            else:\n",
    "                self.parent[root_y] = root_x\n",
    "                self.rank[root_x] += 1\n",
    "\n",
    "# Example Usage\n",
    "ds = DisjointSet(5)\n",
    "ds.union(0, 1)\n",
    "ds.union(1, 2)\n",
    "ds.union(3, 4)\n",
    "\n",
    "print(\"Find(0):\", ds.find(0))\n",
    "print(\"Find(3):\", ds.find(3))\n",
    "print(\"Find(4):\", ds.find(4))\n"
   ]
  },
  {
   "cell_type": "markdown",
   "id": "f5b35991",
   "metadata": {},
   "source": [
    "## Quiz\n",
    "\n",
    "1. What does the `find` operation in union-find do?\n",
    "   - A. Combines two sets into one.\n",
    "   - B. Determines the representative of a set.\n",
    "   - C. Returns the rank of a set.\n",
    "\n",
    "2. How does path compression improve the union-find operations?\n",
    "   - A. By combining smaller trees into larger ones.\n",
    "   - B. By flattening the tree structure for faster future operations.\n",
    "   - C. By reducing the number of union operations.\n",
    "\n",
    "3. What is the time complexity of union-find with path compression and union by rank?\n",
    "   - A. O(n)\n",
    "   - B. O(log n)\n",
    "   - C. O(α(n)), where α is the inverse Ackermann function.\n",
    "\n",
    "### Answers:\n",
    "1. B. Determines the representative of a set.\n",
    "2. B. By flattening the tree structure for faster future operations.\n",
    "3. C. O(α(n)), where α is the inverse Ackermann function.\n"
   ]
  },
  {
   "cell_type": "markdown",
   "id": "33efe4f2",
   "metadata": {},
   "source": [
    "## Exercise: Detect Cycles in an Undirected Graph\n",
    "\n",
    "### Problem Statement\n",
    "Write a function to detect cycles in an undirected graph using union-find.\n",
    "\n",
    "### Example Graph:\n",
    "- Nodes: {0, 1, 2, 3}\n",
    "- Edges: {(0, 1), (1, 2), (2, 0), (1, 3)}\n",
    "\n",
    "### Steps:\n",
    "1. For each edge `(u, v)`, check if `find(u)` == `find(v)`.\n",
    "2. If they belong to the same set, a cycle exists.\n",
    "3. Otherwise, perform `union(u, v)`.\n"
   ]
  },
  {
   "cell_type": "code",
   "execution_count": null,
   "id": "042c5e26",
   "metadata": {},
   "outputs": [],
   "source": [
    "# Cycle Detection Using Union-Find\n",
    "def has_cycle(n, edges):\n",
    "    ds = DisjointSet(n)\n",
    "    for u, v in edges:\n",
    "        if ds.find(u) == ds.find(v):\n",
    "            return True  # Cycle detected\n",
    "        ds.union(u, v)\n",
    "    return False\n",
    "\n",
    "# Example Usage\n",
    "edges = [(0, 1), (1, 2), (2, 0), (1, 3)]\n",
    "print(\"Graph contains cycle:\", has_cycle(4, edges))\n"
   ]
  }
 ],
 "metadata": {
  "kernelspec": {
   "display_name": "Python 3 (ipykernel)",
   "language": "python",
   "name": "python3"
  },
  "language_info": {
   "codemirror_mode": {
    "name": "ipython",
    "version": 3
   },
   "file_extension": ".py",
   "mimetype": "text/x-python",
   "name": "python",
   "nbconvert_exporter": "python",
   "pygments_lexer": "ipython3",
   "version": "3.11.7"
  }
 },
 "nbformat": 4,
 "nbformat_minor": 5
}
