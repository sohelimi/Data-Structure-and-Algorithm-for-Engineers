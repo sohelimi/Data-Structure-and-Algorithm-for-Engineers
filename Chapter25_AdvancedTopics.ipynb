{
 "cells": [
  {
   "cell_type": "markdown",
   "id": "26480794",
   "metadata": {},
   "source": [
    "# Chapter 25: Advanced Topics\n",
    "\n",
    "## Concept: Exploration of advanced algorithms including network flows, NP-completeness, and approximation techniques."
   ]
  },
  {
   "cell_type": "markdown",
   "id": "45354384",
   "metadata": {},
   "source": [
    "### Algorithms:\n",
    "\n",
    "- **Graph Theory: Network flows and shortest paths**\n",
    "\n",
    "- **NP-Completeness: Understanding computational complexity**\n",
    "\n",
    "- **Approximation Algorithms: Approaches to intractable problems**"
   ]
  },
  {
   "cell_type": "markdown",
   "id": "95a4c9b8",
   "metadata": {},
   "source": [
    "### Visual Representation:\n",
    "\n",
    "Add a visual representation of the algorithms here.\n"
   ]
  },
  {
   "cell_type": "markdown",
   "id": "bb7dba79",
   "metadata": {},
   "source": [
    "## Python Code Examples"
   ]
  },
  {
   "cell_type": "markdown",
   "id": "e5d57e9d",
   "metadata": {},
   "source": [
    "### Ford-Fulkerson Algorithm for Network Flows"
   ]
  },
  {
   "cell_type": "code",
   "execution_count": null,
   "id": "1d87d4e8",
   "metadata": {},
   "outputs": [],
   "source": [
    "\n",
    "from collections import defaultdict\n",
    "\n",
    "class Graph:\n",
    "    def __init__(self, vertices):\n",
    "        self.graph = defaultdict(dict)\n",
    "        self.V = vertices\n",
    "\n",
    "    def add_edge(self, u, v, w):\n",
    "        self.graph[u][v] = w\n",
    "\n",
    "    def bfs(self, s, t, parent):\n",
    "        visited = [False] * self.V\n",
    "        queue = [s]\n",
    "        visited[s] = True\n",
    "\n",
    "        while queue:\n",
    "            u = queue.pop(0)\n",
    "            for v, capacity in self.graph[u].items():\n",
    "                if not visited[v] and capacity > 0:\n",
    "                    queue.append(v)\n",
    "                    visited[v] = True\n",
    "                    parent[v] = u\n",
    "                    if v == t:\n",
    "                        return True\n",
    "        return False\n",
    "\n",
    "    def ford_fulkerson(self, source, sink):\n",
    "        parent = [-1] * self.V\n",
    "        max_flow = 0\n",
    "\n",
    "        while self.bfs(source, sink, parent):\n",
    "            path_flow = float(\"Inf\")\n",
    "            s = sink\n",
    "            while s != source:\n",
    "                path_flow = min(path_flow, self.graph[parent[s]][s])\n",
    "                s = parent[s]\n",
    "            max_flow += path_flow\n",
    "\n",
    "            v = sink\n",
    "            while v != source:\n",
    "                u = parent[v]\n",
    "                self.graph[u][v] -= path_flow\n",
    "                self.graph[v][u] += path_flow\n",
    "                v = parent[v]\n",
    "\n",
    "        return max_flow\n",
    "\n",
    "# Example Usage\n",
    "g = Graph(6)\n",
    "g.add_edge(0, 1, 16)\n",
    "g.add_edge(0, 2, 13)\n",
    "g.add_edge(1, 2, 10)\n",
    "g.add_edge(1, 3, 12)\n",
    "g.add_edge(2, 1, 4)\n",
    "g.add_edge(2, 4, 14)\n",
    "g.add_edge(3, 2, 9)\n",
    "g.add_edge(3, 5, 20)\n",
    "g.add_edge(4, 3, 7)\n",
    "g.add_edge(4, 5, 4)\n",
    "\n",
    "print(\"Maximum Flow:\", g.ford_fulkerson(0, 5))\n"
   ]
  },
  {
   "cell_type": "markdown",
   "id": "20171bd5",
   "metadata": {},
   "source": [
    "## Quiz"
   ]
  },
  {
   "cell_type": "markdown",
   "id": "714998d9",
   "metadata": {},
   "source": [
    "\n",
    "1. What does the Ford-Fulkerson algorithm compute?\n",
    "   - A. Shortest path between nodes\n",
    "   - B. Maximum flow in a network\n",
    "   - C. Minimum spanning tree\n",
    "\n",
    "2. Which of the following problems is NP-complete?\n",
    "   - A. Traveling Salesman Problem\n",
    "   - B. Sorting a list\n",
    "   - C. Multiplying matrices\n",
    "\n",
    "Answers:\n",
    "1. B. Maximum flow in a network\n",
    "2. A. Traveling Salesman Problem\n"
   ]
  },
  {
   "cell_type": "markdown",
   "id": "65d43ce6",
   "metadata": {},
   "source": [
    "## Exercise"
   ]
  },
  {
   "cell_type": "markdown",
   "id": "7a3e9536",
   "metadata": {},
   "source": [
    "\n",
    "### Problem Statement:\n",
    "Write an approximation algorithm for the Traveling Salesman Problem (TSP).\n",
    "\n",
    "### Example:\n",
    "Input:\n",
    "Graph: A weighted adjacency matrix representing a complete graph.\n",
    "\n",
    "Output:\n",
    "Approximate shortest tour length: 30\n"
   ]
  }
 ],
 "metadata": {
  "kernelspec": {
   "display_name": "Python 3 (ipykernel)",
   "language": "python",
   "name": "python3"
  },
  "language_info": {
   "codemirror_mode": {
    "name": "ipython",
    "version": 3
   },
   "file_extension": ".py",
   "mimetype": "text/x-python",
   "name": "python",
   "nbconvert_exporter": "python",
   "pygments_lexer": "ipython3",
   "version": "3.11.7"
  }
 },
 "nbformat": 4,
 "nbformat_minor": 5
}
