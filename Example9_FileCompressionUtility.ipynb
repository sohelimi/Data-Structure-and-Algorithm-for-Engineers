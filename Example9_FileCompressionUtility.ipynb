{
 "cells": [
  {
   "cell_type": "markdown",
   "id": "742762db",
   "metadata": {},
   "source": [
    "# Example 9: File Compression Utility\n",
    "\n",
    "## Description:\n",
    "A utility for compressing text files, similar to ZIP or GZIP."
   ]
  },
  {
   "cell_type": "markdown",
   "id": "68602410",
   "metadata": {},
   "source": [
    "## Data Structure/Algorithm:\n",
    "Huffman Coding (Greedy Algorithm) for data compression."
   ]
  },
  {
   "cell_type": "markdown",
   "id": "dacc2640",
   "metadata": {},
   "source": [
    "### Visual Representation:\n",
    "\n",
    "![Visualization](https://upload.wikimedia.org/wikipedia/commons/5/5a/Huffman_coding_tree_example.svg)"
   ]
  },
  {
   "cell_type": "markdown",
   "id": "77c70471",
   "metadata": {},
   "source": [
    "## Implementation"
   ]
  },
  {
   "cell_type": "code",
   "execution_count": null,
   "id": "bf361127",
   "metadata": {},
   "outputs": [],
   "source": [
    "\n",
    "import heapq\n",
    "from collections import defaultdict\n",
    "\n",
    "class HuffmanCoding:\n",
    "    def __init__(self):\n",
    "        self.codes = {}\n",
    "        self.reverse_mapping = {}\n",
    "\n",
    "    def frequency_table(self, text):\n",
    "        frequency = defaultdict(int)\n",
    "        for char in text:\n",
    "            frequency[char] += 1\n",
    "        return frequency\n",
    "\n",
    "    def build_heap(self, frequency):\n",
    "        heap = [[weight, [symbol, \"\"]] for symbol, weight in frequency.items()]\n",
    "        heapq.heapify(heap)\n",
    "        return heap\n",
    "\n",
    "    def merge_nodes(self, heap):\n",
    "        while len(heap) > 1:\n",
    "            low = heapq.heappop(heap)\n",
    "            high = heapq.heappop(heap)\n",
    "            for pair in low[1:]:\n",
    "                pair[1] = '0' + pair[1]\n",
    "            for pair in high[1:]:\n",
    "                pair[1] = '1' + pair[1]\n",
    "            heapq.heappush(heap, [low[0] + high[0]] + low[1:] + high[1:])\n",
    "        return heap\n",
    "\n",
    "    def build_codes(self, heap):\n",
    "        root = heapq.heappop(heap)\n",
    "        huffman_tree = root[1:]\n",
    "        for pair in huffman_tree:\n",
    "            self.codes[pair[0]] = pair[1]\n",
    "            self.reverse_mapping[pair[1]] = pair[0]\n",
    "        return self.codes\n",
    "\n",
    "    def compress(self, text):\n",
    "        frequency = self.frequency_table(text)\n",
    "        heap = self.build_heap(frequency)\n",
    "        heap = self.merge_nodes(heap)\n",
    "        self.build_codes(heap)\n",
    "        encoded_text = \"\".join([self.codes[char] for char in text])\n",
    "        return encoded_text\n",
    "\n",
    "# Example usage\n",
    "text = \"hello huffman\"\n",
    "huffman = HuffmanCoding()\n",
    "encoded_text = huffman.compress(text)\n",
    "print(\"Encoded Text:\", encoded_text)\n"
   ]
  },
  {
   "cell_type": "markdown",
   "id": "c06188ac",
   "metadata": {},
   "source": [
    "## Quiz"
   ]
  },
  {
   "cell_type": "markdown",
   "id": "718802d4",
   "metadata": {},
   "source": [
    "\n",
    "1. What is the main advantage of Huffman Coding?\n",
    "   - A. It simplifies text processing.\n",
    "   - B. It compresses text files efficiently by minimizing redundancy.\n",
    "   - C. It speeds up encoding.\n",
    "\n",
    "2. What type of algorithm is Huffman Coding?\n",
    "   - A. Divide and Conquer\n",
    "   - B. Dynamic Programming\n",
    "   - C. Greedy Algorithm\n",
    "\n",
    "### Answers:\n",
    "1. B. It compresses text files efficiently by minimizing redundancy.\n",
    "2. C. Greedy Algorithm\n"
   ]
  },
  {
   "cell_type": "markdown",
   "id": "caac2be9",
   "metadata": {},
   "source": [
    "## Exercise"
   ]
  },
  {
   "cell_type": "markdown",
   "id": "4bfd5eca",
   "metadata": {},
   "source": [
    "\n",
    "### Problem Statement:\n",
    "Write a Huffman coding-based compression utility that compresses a given text.\n",
    "\n",
    "### Example:\n",
    "Input:\n",
    "- Text: \"hello\"\n",
    "\n",
    "Output:\n",
    "- Encoded Text: A binary string representation of \"hello\"\n"
   ]
  }
 ],
 "metadata": {},
 "nbformat": 4,
 "nbformat_minor": 5
}
