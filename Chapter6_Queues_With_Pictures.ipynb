{
 "cells": [
  {
   "cell_type": "markdown",
   "id": "7e706fb0",
   "metadata": {},
   "source": [
    "# Chapter 6: Queues (Simple, Circular, Priority)\n",
    "\n",
    "## Concept: First In, First Out (FIFO)\n",
    "\n",
    "A **queue** is a linear data structure that operates on the principle of **First In, First Out (FIFO)**. \n",
    "The first element added to the queue is the first one to be removed.\n",
    "\n",
    "### Types of Queues:\n",
    "1. **Simple Queue**: The basic queue implementation.\n",
    "2. **Circular Queue**: A queue where the end connects back to the beginning, making it efficient in space usage.\n",
    "3. **Priority Queue**: Elements are dequeued based on their priority rather than the order of insertion.\n",
    "\n",
    "### Real-World Examples:\n",
    "- A line of customers waiting at a ticket counter.\n",
    "- Task scheduling in operating systems.\n",
    "- Printing jobs queued for a printer.\n"
   ]
  },
  {
   "cell_type": "markdown",
   "id": "10594b9e",
   "metadata": {},
   "source": [
    "### Visual Representation: Simple Queue\n",
    "\n",
    "![Simple Queue Diagram](https://upload.wikimedia.org/wikipedia/commons/5/52/Data_Queue.svg)\n",
    "\n",
    "This diagram shows elements entering from the rear (enqueue) and leaving from the front (dequeue)."
   ]
  },
  {
   "cell_type": "markdown",
   "id": "0307a9fa",
   "metadata": {},
   "source": [
    "### Visual Representation: Circular Queue\n",
    "\n",
    "![Circular Queue Diagram](https://upload.wikimedia.org/wikipedia/commons/4/4f/Circular_queue.png)\n",
    "\n",
    "This diagram illustrates how a circular queue connects the rear back to the front, making efficient use of space."
   ]
  },
  {
   "cell_type": "markdown",
   "id": "62526370",
   "metadata": {},
   "source": [
    "### Visual Representation: Priority Queue\n",
    "\n",
    "![Priority Queue Diagram](https://upload.wikimedia.org/wikipedia/commons/1/1f/Priority_Queue.png)\n",
    "\n",
    "This diagram shows how elements in a priority queue are dequeued based on their priority rather than their insertion order."
   ]
  },
  {
   "cell_type": "markdown",
   "id": "d0370eba",
   "metadata": {},
   "source": [
    "## Implementation: Simple Queue Using Python List\n",
    "\n",
    "A Python list can be used to implement a queue. However, removing elements from the front is inefficient because it requires shifting all other elements."
   ]
  },
  {
   "cell_type": "code",
   "execution_count": null,
   "id": "eca08be6",
   "metadata": {},
   "outputs": [],
   "source": [
    "# Simple Queue Implementation Using Python List\n",
    "class SimpleQueue:\n",
    "    def __init__(self):\n",
    "        self.queue = []\n",
    "\n",
    "    def enqueue(self, item):\n",
    "        self.queue.append(item)\n",
    "\n",
    "    def dequeue(self):\n",
    "        if not self.is_empty():\n",
    "            return self.queue.pop(0)\n",
    "        return \"Queue is empty\"\n",
    "\n",
    "    def peek(self):\n",
    "        if not self.is_empty():\n",
    "            return self.queue[0]\n",
    "        return \"Queue is empty\"\n",
    "\n",
    "    def is_empty(self):\n",
    "        return len(self.queue) == 0\n",
    "\n",
    "    def display(self):\n",
    "        print(\"Queue:\", self.queue)\n",
    "\n",
    "# Example Usage\n",
    "queue = SimpleQueue()\n",
    "queue.enqueue(10)\n",
    "queue.enqueue(20)\n",
    "queue.enqueue(30)\n",
    "print(\"After enqueuing elements:\")\n",
    "queue.display()\n",
    "print(\"Dequeued element:\", queue.dequeue())\n",
    "print(\"Front element:\", queue.peek())\n",
    "queue.display()\n"
   ]
  },
  {
   "cell_type": "markdown",
   "id": "43febe97",
   "metadata": {},
   "source": [
    "## Exercise: Implement a Circular Queue\n",
    "\n",
    "### Problem Statement\n",
    "Write a class to implement a circular queue with the following operations:\n",
    "- `enqueue`: Add an element to the queue.\n",
    "- `dequeue`: Remove and return the front element.\n",
    "- `is_full`: Check if the queue is full.\n",
    "- `is_empty`: Check if the queue is empty.\n",
    "\n",
    "Use an array and pointers for implementation."
   ]
  },
  {
   "cell_type": "code",
   "execution_count": null,
   "id": "54df567c",
   "metadata": {},
   "outputs": [],
   "source": [
    "# Circular Queue Implementation\n",
    "class CircularQueue:\n",
    "    def __init__(self, size):\n",
    "        self.queue = [None] * size\n",
    "        self.size = size\n",
    "        self.front = -1\n",
    "        self.rear = -1\n",
    "\n",
    "    def is_empty(self):\n",
    "        return self.front == -1\n",
    "\n",
    "    def is_full(self):\n",
    "        return (self.rear + 1) % self.size == self.front\n",
    "\n",
    "    def enqueue(self, item):\n",
    "        if self.is_full():\n",
    "            return \"Queue is full\"\n",
    "        if self.is_empty():\n",
    "            self.front = 0\n",
    "        self.rear = (self.rear + 1) % self.size\n",
    "        self.queue[self.rear] = item\n",
    "\n",
    "    def dequeue(self):\n",
    "        if self.is_empty():\n",
    "            return \"Queue is empty\"\n",
    "        item = self.queue[self.front]\n",
    "        if self.front == self.rear:\n",
    "            self.front = self.rear = -1\n",
    "        else:\n",
    "            self.front = (self.front + 1) % self.size\n",
    "        return item\n",
    "\n",
    "    def display(self):\n",
    "        if self.is_empty():\n",
    "            print(\"Queue is empty\")\n",
    "        else:\n",
    "            print(\"Queue:\", end=\" \")\n",
    "            i = self.front\n",
    "            while True:\n",
    "                print(self.queue[i], end=\" \")\n",
    "                if i == self.rear:\n",
    "                    break\n",
    "                i = (i + 1) % self.size\n",
    "            print()\n",
    "\n",
    "# Example Usage\n",
    "cq = CircularQueue(5)\n",
    "cq.enqueue(10)\n",
    "cq.enqueue(20)\n",
    "cq.enqueue(30)\n",
    "cq.enqueue(40)\n",
    "cq.enqueue(50)\n",
    "cq.display()\n",
    "print(\"Dequeued element:\", cq.dequeue())\n",
    "cq.display()\n",
    "cq.enqueue(60)\n",
    "cq.display()\n"
   ]
  },
  {
   "cell_type": "markdown",
   "id": "471130ac",
   "metadata": {},
   "source": [
    "## Quiz\n",
    "\n",
    "1. What does the FIFO principle mean in the context of queues?\n",
    "   - A. First In, Last Out\n",
    "   - B. First In, First Out\n",
    "   - C. Last In, First Out\n",
    "\n",
    "2. Which type of queue connects the rear back to the front?\n",
    "   - A. Simple Queue\n",
    "   - B. Circular Queue\n",
    "   - C. Priority Queue\n",
    "\n",
    "3. Which of the following uses a priority queue?\n",
    "   - A. Task scheduling\n",
    "   - B. Line management\n",
    "   - C. Depth-first search\n",
    "\n",
    "### Answers:\n",
    "1. B. First In, First Out\n",
    "2. B. Circular Queue\n",
    "3. A. Task scheduling"
   ]
  }
 ],
 "metadata": {
  "kernelspec": {
   "display_name": "Python 3 (ipykernel)",
   "language": "python",
   "name": "python3"
  },
  "language_info": {
   "codemirror_mode": {
    "name": "ipython",
    "version": 3
   },
   "file_extension": ".py",
   "mimetype": "text/x-python",
   "name": "python",
   "nbconvert_exporter": "python",
   "pygments_lexer": "ipython3",
   "version": "3.11.7"
  }
 },
 "nbformat": 4,
 "nbformat_minor": 5
}
