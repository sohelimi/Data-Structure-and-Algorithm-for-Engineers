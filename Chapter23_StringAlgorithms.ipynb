{
 "cells": [
  {
   "cell_type": "markdown",
   "id": "940cf6a1",
   "metadata": {},
   "source": [
    "# Chapter 23: String Algorithms\n",
    "\n",
    "## Concept: Efficient processing of strings for text analysis and pattern matching."
   ]
  },
  {
   "cell_type": "markdown",
   "id": "80e5d19b",
   "metadata": {},
   "source": [
    "### Algorithms:\n",
    "\n",
    "- **KMP Algorithm: Pattern Matching**\n",
    "\n",
    "- **Rabin-Karp Algorithm: Hash-Based Matching**"
   ]
  },
  {
   "cell_type": "markdown",
   "id": "16aa14bc",
   "metadata": {},
   "source": [
    "### Visual Representation:\n",
    "\n",
    "Add a visual representation of the algorithms here.\n"
   ]
  },
  {
   "cell_type": "markdown",
   "id": "3162c53d",
   "metadata": {},
   "source": [
    "## Python Code Examples"
   ]
  },
  {
   "cell_type": "markdown",
   "id": "605b1993",
   "metadata": {},
   "source": [
    "### KMP Algorithm"
   ]
  },
  {
   "cell_type": "code",
   "execution_count": null,
   "id": "4ca9872c",
   "metadata": {},
   "outputs": [],
   "source": [
    "\n",
    "def kmp_search(text, pattern):\n",
    "    def compute_lps(pattern):\n",
    "        lps = [0] * len(pattern)\n",
    "        length = 0\n",
    "        i = 1\n",
    "        while i < len(pattern):\n",
    "            if pattern[i] == pattern[length]:\n",
    "                length += 1\n",
    "                lps[i] = length\n",
    "                i += 1\n",
    "            else:\n",
    "                if length != 0:\n",
    "                    length = lps[length - 1]\n",
    "                else:\n",
    "                    lps[i] = 0\n",
    "                    i += 1\n",
    "        return lps\n",
    "\n",
    "    lps = compute_lps(pattern)\n",
    "    i = j = 0\n",
    "    results = []\n",
    "    while i < len(text):\n",
    "        if text[i] == pattern[j]:\n",
    "            i += 1\n",
    "            j += 1\n",
    "        if j == len(pattern):\n",
    "            results.append(i - j)\n",
    "            j = lps[j - 1]\n",
    "        elif i < len(text) and text[i] != pattern[j]:\n",
    "            if j != 0:\n",
    "                j = lps[j - 1]\n",
    "            else:\n",
    "                i += 1\n",
    "    return results\n"
   ]
  },
  {
   "cell_type": "markdown",
   "id": "cd3d7383",
   "metadata": {},
   "source": [
    "### Rabin-Karp Algorithm"
   ]
  },
  {
   "cell_type": "code",
   "execution_count": null,
   "id": "fadd00d2",
   "metadata": {},
   "outputs": [],
   "source": [
    "\n",
    "def rabin_karp(text, pattern, q=101):\n",
    "    d = 256\n",
    "    m, n = len(pattern), len(text)\n",
    "    h, p, t = 1, 0, 0\n",
    "\n",
    "    for i in range(m - 1):\n",
    "        h = (h * d) % q\n",
    "\n",
    "    for i in range(m):\n",
    "        p = (d * p + ord(pattern[i])) % q\n",
    "        t = (d * t + ord(text[i])) % q\n",
    "\n",
    "    results = []\n",
    "    for i in range(n - m + 1):\n",
    "        if p == t:\n",
    "            if text[i : i + m] == pattern:\n",
    "                results.append(i)\n",
    "\n",
    "        if i < n - m:\n",
    "            t = (d * (t - ord(text[i]) * h) + ord(text[i + m])) % q\n",
    "            if t < 0:\n",
    "                t += q\n",
    "    return results\n"
   ]
  },
  {
   "cell_type": "markdown",
   "id": "02714e54",
   "metadata": {},
   "source": [
    "## Quiz"
   ]
  },
  {
   "cell_type": "markdown",
   "id": "c48e47ae",
   "metadata": {},
   "source": [
    "\n",
    "1. What is the time complexity of the KMP Algorithm for pattern matching?\n",
    "   - A. O(n + m)\n",
    "   - B. O(n^2)\n",
    "   - C. O(m log n)\n",
    "\n",
    "2. What makes the Rabin-Karp algorithm efficient for multiple patterns?\n",
    "   - A. It uses a prefix table.\n",
    "   - B. It uses a rolling hash function.\n",
    "   - C. It divides the text into smaller parts.\n",
    "\n",
    "Answers:\n",
    "1. A. O(n + m)\n",
    "2. B. It uses a rolling hash function.\n"
   ]
  },
  {
   "cell_type": "markdown",
   "id": "8bc314c2",
   "metadata": {},
   "source": [
    "## Exercise"
   ]
  },
  {
   "cell_type": "markdown",
   "id": "c3673b50",
   "metadata": {},
   "source": [
    "\n",
    "### Problem Statement:\n",
    "Write a function to find all occurrences of a pattern in a given text using KMP or Rabin-Karp.\n",
    "\n",
    "### Example:\n",
    "Input:\n",
    "- Text: \"ababcababc\"\n",
    "- Pattern: \"abc\"\n",
    "\n",
    "Output: [2, 7]\n"
   ]
  }
 ],
 "metadata": {
  "kernelspec": {
   "display_name": "Python 3 (ipykernel)",
   "language": "python",
   "name": "python3"
  },
  "language_info": {
   "codemirror_mode": {
    "name": "ipython",
    "version": 3
   },
   "file_extension": ".py",
   "mimetype": "text/x-python",
   "name": "python",
   "nbconvert_exporter": "python",
   "pygments_lexer": "ipython3",
   "version": "3.11.7"
  }
 },
 "nbformat": 4,
 "nbformat_minor": 5
}
