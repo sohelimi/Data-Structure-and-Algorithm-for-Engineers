{
 "cells": [
  {
   "cell_type": "markdown",
   "id": "cce034e1",
   "metadata": {},
   "source": [
    "# Chapter 17: Recursion\n",
    "\n",
    "## Concept: Understanding Recursion\n",
    "\n",
    "Recursion is a process where a function calls itself to solve smaller subproblems. It is commonly used in problems that can be broken into similar subproblems.\n",
    "\n",
    "### Key Components:\n",
    "1. **Base Case**:\n",
    "   - The condition that stops the recursion.\n",
    "   - Example: `n == 0` in a factorial function.\n",
    "2. **Recursive Case**:\n",
    "   - The part of the function where it calls itself.\n",
    "   - Example: `n * factorial(n-1)` in a factorial function.\n",
    "\n",
    "### Visualization:\n",
    "- Recursive calls can be visualized as a stack of function calls (LIFO - Last In, First Out).\n"
   ]
  },
  {
   "cell_type": "markdown",
   "id": "96cd2634",
   "metadata": {},
   "source": [
    "### Visual Representation: Recursion\n",
    "\n",
    "Below is a visualization of how recursion works for calculating `factorial(3)`:\n",
    "\n",
    "1. `factorial(3)` calls `factorial(2)`.\n",
    "2. `factorial(2)` calls `factorial(1)`.\n",
    "3. `factorial(1)` calls `factorial(0)` (base case).\n",
    "4. `factorial(0)` returns `1` and the stack unwinds.\n",
    "\n",
    "![Recursion Visualization](https://upload.wikimedia.org/wikipedia/commons/7/7e/Factorial_example_recursion.png)\n"
   ]
  },
  {
   "cell_type": "markdown",
   "id": "75930777",
   "metadata": {},
   "source": [
    "## Implementation: Recursive Solutions\n",
    "\n",
    "We will implement recursive solutions for calculating factorial and Fibonacci numbers."
   ]
  },
  {
   "cell_type": "code",
   "execution_count": null,
   "id": "74e9db85",
   "metadata": {},
   "outputs": [],
   "source": [
    "# Recursive Factorial\n",
    "def factorial(n):\n",
    "    if n == 0:\n",
    "        return 1  # Base case\n",
    "    return n * factorial(n-1)  # Recursive case\n",
    "\n",
    "# Recursive Fibonacci\n",
    "def fibonacci(n):\n",
    "    if n <= 1:\n",
    "        return n  # Base case\n",
    "    return fibonacci(n-1) + fibonacci(n-2)  # Recursive case\n",
    "\n",
    "# Example Usage\n",
    "print(\"Factorial of 5:\", factorial(5))\n",
    "print(\"Fibonacci of 7:\", fibonacci(7))\n"
   ]
  },
  {
   "cell_type": "markdown",
   "id": "dfc1f144",
   "metadata": {},
   "source": [
    "## Quiz\n",
    "\n",
    "1. What is a base case in recursion?\n",
    "   - A. The starting point of recursion.\n",
    "   - B. The condition that stops the recursion.\n",
    "   - C. The part where the function calls itself.\n",
    "\n",
    "2. What happens if a base case is missing in a recursive function?\n",
    "   - A. The function returns 0.\n",
    "   - B. The function will execute indefinitely, leading to a stack overflow.\n",
    "   - C. The function will stop after 10 calls.\n",
    "\n",
    "3. Which data structure is used to manage recursive function calls?\n",
    "   - A. Queue\n",
    "   - B. Stack\n",
    "   - C. Array\n",
    "\n",
    "### Answers:\n",
    "1. B. The condition that stops the recursion.\n",
    "2. B. The function will execute indefinitely, leading to a stack overflow.\n",
    "3. B. Stack\n"
   ]
  },
  {
   "cell_type": "markdown",
   "id": "0171aab1",
   "metadata": {},
   "source": [
    "## Exercise: Convert Recursive Fibonacci to Iterative\n",
    "\n",
    "### Problem Statement\n",
    "Write an iterative function to calculate the Fibonacci sequence. Compare its efficiency with the recursive implementation.\n",
    "\n",
    "### Example:\n",
    "- Input: `7`\n",
    "- Output: `13` (Fibonacci number at index 7).\n",
    "\n",
    "### Solution:\n"
   ]
  },
  {
   "cell_type": "code",
   "execution_count": null,
   "id": "ace8c950",
   "metadata": {},
   "outputs": [],
   "source": [
    "# Iterative Fibonacci\n",
    "def iterative_fibonacci(n):\n",
    "    if n <= 1:\n",
    "        return n\n",
    "    a, b = 0, 1\n",
    "    for _ in range(2, n+1):\n",
    "        a, b = b, a + b\n",
    "    return b\n",
    "\n",
    "# Example Usage\n",
    "print(\"Iterative Fibonacci of 7:\", iterative_fibonacci(7))\n"
   ]
  }
 ],
 "metadata": {
  "kernelspec": {
   "display_name": "Python 3 (ipykernel)",
   "language": "python",
   "name": "python3"
  },
  "language_info": {
   "codemirror_mode": {
    "name": "ipython",
    "version": 3
   },
   "file_extension": ".py",
   "mimetype": "text/x-python",
   "name": "python",
   "nbconvert_exporter": "python",
   "pygments_lexer": "ipython3",
   "version": "3.11.7"
  }
 },
 "nbformat": 4,
 "nbformat_minor": 5
}
