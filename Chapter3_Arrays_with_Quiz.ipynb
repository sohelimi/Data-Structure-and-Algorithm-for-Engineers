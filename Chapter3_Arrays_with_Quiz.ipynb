{
 "cells": [
  {
   "cell_type": "markdown",
   "id": "833be06f",
   "metadata": {},
   "source": [
    "# Chapter 3: Arrays\n",
    "\n",
    "## Concept: Definition, Advantages, Limitations\n",
    "\n",
    "**Definition**: An array is a collection of elements, each identified by an index or key. Arrays are used to store multiple values in a single variable.\n",
    "\n",
    "**Advantages**:\n",
    "1. Provides fast access to elements using their index.\n",
    "2. Efficient use of memory for storing data of the same type.\n",
    "3. Suitable for implementing mathematical and scientific computations.\n",
    "\n",
    "**Limitations**:\n",
    "1. Fixed size: The size of an array must be defined at initialization and cannot be changed.\n",
    "2. Inefficient insertion and deletion: These operations require shifting elements.\n",
    "3. Can only store elements of the same type."
   ]
  },
  {
   "cell_type": "markdown",
   "id": "3d51d585",
   "metadata": {},
   "source": [
    "## Operations: Access, Insertion, Deletion\n",
    "\n",
    "**Access**:\n",
    "Retrieve an element from an array using its index. The operation is O(1).\n",
    "\n",
    "**Insertion**:\n",
    "Add an element to an array. If the array is unsorted, the new element is appended to the end. In a sorted array, elements must be shifted to maintain order. The operation is O(n) in the worst case.\n",
    "\n",
    "**Deletion**:\n",
    "Remove an element from an array. This requires shifting elements to fill the gap, making it an O(n) operation in the worst case."
   ]
  },
  {
   "cell_type": "code",
   "execution_count": null,
   "id": "1b5741e6",
   "metadata": {},
   "outputs": [],
   "source": [
    "# Python Code: Implement an array and perform operations\n",
    "\n",
    "# 1. Access elements in an array\n",
    "arr = [10, 20, 30, 40, 50]\n",
    "print(\"Array:\", arr)\n",
    "print(\"Access element at index 2:\", arr[2])  # O(1)\n",
    "\n",
    "# 2. Insert an element into an array\n",
    "arr.append(60)  # Add at the end\n",
    "print(\"Array after insertion:\", arr)\n",
    "\n",
    "# 3. Delete an element from an array\n",
    "arr.remove(30)  # Remove the element with value 30\n",
    "print(\"Array after deletion:\", arr)"
   ]
  },
  {
   "cell_type": "markdown",
   "id": "68063982",
   "metadata": {},
   "source": [
    "## Quiz\n",
    "\n",
    "1. What is the time complexity of accessing an element in an array using its index?\n",
    "   - A. O(1)\n",
    "   - B. O(n)\n",
    "   - C. O(log n)\n",
    "\n",
    "2. What happens when you try to delete an element from an array?\n",
    "   - A. The array resizes automatically without any overhead.\n",
    "   - B. All subsequent elements are shifted to fill the gap.\n",
    "   - C. The array becomes fragmented.\n",
    "\n",
    "3. Which of the following is a limitation of arrays?\n",
    "   - A. Arrays are not memory efficient.\n",
    "   - B. Arrays cannot store elements of the same type.\n",
    "   - C. Arrays have a fixed size.\n",
    "\n",
    "### Answers:\n",
    "1. A. O(1)\n",
    "2. B. All subsequent elements are shifted to fill the gap.\n",
    "3. C. Arrays have a fixed size."
   ]
  },
  {
   "cell_type": "markdown",
   "id": "5e5140cc",
   "metadata": {},
   "source": [
    "## Exercise: Find the Median\n",
    "\n",
    "Write a function to find the median of an unsorted array.\n",
    "\n",
    "**Steps**:\n",
    "1. Sort the array.\n",
    "2. If the array has an odd number of elements, return the middle element.\n",
    "3. If the array has an even number of elements, return the average of the two middle elements."
   ]
  },
  {
   "cell_type": "code",
   "execution_count": null,
   "id": "c542f1d7",
   "metadata": {},
   "outputs": [],
   "source": [
    "# Solution: Function to find the median of an unsorted array\n",
    "def find_median(arr):\n",
    "    # Step 1: Sort the array\n",
    "    arr.sort()\n",
    "\n",
    "    # Step 2: Find the middle element(s)\n",
    "    n = len(arr)\n",
    "    if n % 2 == 1:\n",
    "        # Odd length: Return the middle element\n",
    "        return arr[n // 2]\n",
    "    else:\n",
    "        # Even length: Return the average of the two middle elements\n",
    "        mid1 = arr[n // 2 - 1]\n",
    "        mid2 = arr[n // 2]\n",
    "        return (mid1 + mid2) / 2\n",
    "\n",
    "# Example usage\n",
    "example_array = [7, 1, 3, 4, 9, 6]\n",
    "median = find_median(example_array)\n",
    "print(\"The median of the array is:\", median)"
   ]
  }
 ],
 "metadata": {
  "kernelspec": {
   "display_name": "Python 3 (ipykernel)",
   "language": "python",
   "name": "python3"
  },
  "language_info": {
   "codemirror_mode": {
    "name": "ipython",
    "version": 3
   },
   "file_extension": ".py",
   "mimetype": "text/x-python",
   "name": "python",
   "nbconvert_exporter": "python",
   "pygments_lexer": "ipython3",
   "version": "3.11.7"
  }
 },
 "nbformat": 4,
 "nbformat_minor": 5
}
