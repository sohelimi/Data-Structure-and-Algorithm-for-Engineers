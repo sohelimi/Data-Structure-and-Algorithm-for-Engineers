{
 "cells": [
  {
   "cell_type": "markdown",
   "id": "ab20df14",
   "metadata": {},
   "source": [
    "# Chapter 20: Dynamic Programming\n",
    "\n",
    "## Concept: Optimization Using Memoization and Tabulation\n",
    "\n",
    "Dynamic Programming (DP) is an optimization technique that solves problems by breaking them into smaller overlapping sub-problems.\n",
    "\n",
    "### Key Components:\n",
    "1. **Memoization (Top-Down)**:\n",
    "   - Store intermediate results to avoid redundant computations.\n",
    "2. **Tabulation (Bottom-Up)**:\n",
    "   - Build a table iteratively to solve the problem.\n",
    "\n",
    "### Applications:\n",
    "1. Fibonacci Sequence.\n",
    "2. Knapsack Problem (0/1 knapsack).\n",
    "3. Longest Common Subsequence (LCS).\n"
   ]
  },
  {
   "cell_type": "markdown",
   "id": "9905be7b",
   "metadata": {},
   "source": [
    "### Visual Representation: Dynamic Programming\n",
    "\n",
    "Below is a visualization of solving the Fibonacci sequence using memoization:\n",
    "\n",
    "![Dynamic Programming Visualization](https://upload.wikimedia.org/wikipedia/commons/thumb/5/5c/Dynamic_programming_fibonacci.svg/500px-Dynamic_programming_fibonacci.svg.png)\n",
    "\n",
    "This diagram shows how previously computed values are reused instead of recalculating them.\n"
   ]
  },
  {
   "cell_type": "markdown",
   "id": "4f6cc9e0",
   "metadata": {},
   "source": [
    "## Implementation: Fibonacci Sequence Using DP\n",
    "\n",
    "We will implement both recursive and dynamic programming (top-down and bottom-up) solutions for the Fibonacci sequence."
   ]
  },
  {
   "cell_type": "code",
   "execution_count": null,
   "id": "1982fb50",
   "metadata": {},
   "outputs": [],
   "source": [
    "# Naive Recursive Fibonacci\n",
    "def fibonacci_recursive(n):\n",
    "    if n <= 1:\n",
    "        return n\n",
    "    return fibonacci_recursive(n-1) + fibonacci_recursive(n-2)\n",
    "\n",
    "# Memoized Fibonacci (Top-Down DP)\n",
    "def fibonacci_memoized(n, memo={}):\n",
    "    if n in memo:\n",
    "        return memo[n]\n",
    "    if n <= 1:\n",
    "        return n\n",
    "    memo[n] = fibonacci_memoized(n-1, memo) + fibonacci_memoized(n-2, memo)\n",
    "    return memo[n]\n",
    "\n",
    "# Bottom-Up Fibonacci (Tabulation)\n",
    "def fibonacci_bottom_up(n):\n",
    "    if n <= 1:\n",
    "        return n\n",
    "    dp = [0] * (n + 1)\n",
    "    dp[1] = 1\n",
    "    for i in range(2, n + 1):\n",
    "        dp[i] = dp[i-1] + dp[i-2]\n",
    "    return dp[n]\n",
    "\n",
    "# Example Usage\n",
    "n = 10\n",
    "print(\"Naive Recursive Fibonacci:\", fibonacci_recursive(n))\n",
    "print(\"Memoized Fibonacci:\", fibonacci_memoized(n))\n",
    "print(\"Bottom-Up Fibonacci:\", fibonacci_bottom_up(n))\n"
   ]
  },
  {
   "cell_type": "markdown",
   "id": "0e2a214d",
   "metadata": {},
   "source": [
    "## Implementation: 0/1 Knapsack Problem\n",
    "\n",
    "We will solve the 0/1 Knapsack problem using dynamic programming (bottom-up)."
   ]
  },
  {
   "cell_type": "code",
   "execution_count": null,
   "id": "812759a7",
   "metadata": {},
   "outputs": [],
   "source": [
    "# 0/1 Knapsack Problem\n",
    "def knapsack(values, weights, capacity):\n",
    "    n = len(values)\n",
    "    dp = [[0] * (capacity + 1) for _ in range(n + 1)]\n",
    "\n",
    "    for i in range(1, n + 1):\n",
    "        for w in range(1, capacity + 1):\n",
    "            if weights[i-1] <= w:\n",
    "                dp[i][w] = max(dp[i-1][w], values[i-1] + dp[i-1][w-weights[i-1]])\n",
    "            else:\n",
    "                dp[i][w] = dp[i-1][w]\n",
    "\n",
    "    return dp[n][capacity]\n",
    "\n",
    "# Example Usage\n",
    "values = [60, 100, 120]\n",
    "weights = [10, 20, 30]\n",
    "capacity = 50\n",
    "print(\"Maximum value in Knapsack:\", knapsack(values, weights, capacity))\n"
   ]
  },
  {
   "cell_type": "markdown",
   "id": "590a8b15",
   "metadata": {},
   "source": [
    "## Implementation: Longest Common Subsequence (LCS)\n",
    "\n",
    "We will solve the Longest Common Subsequence problem using dynamic programming."
   ]
  },
  {
   "cell_type": "code",
   "execution_count": null,
   "id": "e1113eb5",
   "metadata": {},
   "outputs": [],
   "source": [
    "# Longest Common Subsequence\n",
    "def longest_common_subsequence(X, Y):\n",
    "    m, n = len(X), len(Y)\n",
    "    dp = [[0] * (n + 1) for _ in range(m + 1)]\n",
    "\n",
    "    for i in range(1, m + 1):\n",
    "        for j in range(1, n + 1):\n",
    "            if X[i-1] == Y[j-1]:\n",
    "                dp[i][j] = dp[i-1][j-1] + 1\n",
    "            else:\n",
    "                dp[i][j] = max(dp[i-1][j], dp[i][j-1])\n",
    "\n",
    "    return dp[m][n]\n",
    "\n",
    "# Example Usage\n",
    "X = \"AGGTAB\"\n",
    "Y = \"GXTXAYB\"\n",
    "print(\"Length of LCS:\", longest_common_subsequence(X, Y))\n"
   ]
  },
  {
   "cell_type": "markdown",
   "id": "a1e65c94",
   "metadata": {},
   "source": [
    "## Quiz\n",
    "\n",
    "1. What is the key difference between memoization and tabulation?\n",
    "   - A. Tabulation is recursive, while memoization is iterative.\n",
    "   - B. Memoization is top-down, while tabulation is bottom-up.\n",
    "   - C. Memoization is iterative, while tabulation is recursive.\n",
    "\n",
    "2. Which of the following problems can be solved using dynamic programming?\n",
    "   - A. Fibonacci Sequence\n",
    "   - B. 0/1 Knapsack Problem\n",
    "   - C. Both A and B\n",
    "\n",
    "3. What is the time complexity of the bottom-up Fibonacci implementation?\n",
    "   - A. O(n)\n",
    "   - B. O(log n)\n",
    "   - C. O(n²)\n",
    "\n",
    "### Answers:\n",
    "1. B. Memoization is top-down, while tabulation is bottom-up.\n",
    "2. C. Both A and B\n",
    "3. A. O(n)\n"
   ]
  },
  {
   "cell_type": "markdown",
   "id": "c718e681",
   "metadata": {},
   "source": [
    "## Exercise: Solve the Minimum Coin Change Problem\n",
    "\n",
    "### Problem Statement\n",
    "Write a function to find the minimum number of coins required to make a given amount using dynamic programming.\n",
    "\n",
    "### Example:\n",
    "Coins: `[1, 2, 5]`\n",
    "Amount: `11`\n",
    "Output: `3` (5 + 5 + 1).\n",
    "\n",
    "### Solution:\n"
   ]
  },
  {
   "cell_type": "code",
   "execution_count": null,
   "id": "1da30583",
   "metadata": {},
   "outputs": [],
   "source": [
    "# Minimum Coin Change Problem\n",
    "def coin_change(coins, amount):\n",
    "    dp = [float('inf')] * (amount + 1)\n",
    "    dp[0] = 0\n",
    "\n",
    "    for coin in coins:\n",
    "        for x in range(coin, amount + 1):\n",
    "            dp[x] = min(dp[x], dp[x - coin] + 1)\n",
    "\n",
    "    return dp[amount] if dp[amount] != float('inf') else -1\n",
    "\n",
    "# Example Usage\n",
    "coins = [1, 2, 5]\n",
    "amount = 11\n",
    "print(\"Minimum coins needed:\", coin_change(coins, amount))\n"
   ]
  }
 ],
 "metadata": {
  "kernelspec": {
   "display_name": "Python 3 (ipykernel)",
   "language": "python",
   "name": "python3"
  },
  "language_info": {
   "codemirror_mode": {
    "name": "ipython",
    "version": 3
   },
   "file_extension": ".py",
   "mimetype": "text/x-python",
   "name": "python",
   "nbconvert_exporter": "python",
   "pygments_lexer": "ipython3",
   "version": "3.11.7"
  }
 },
 "nbformat": 4,
 "nbformat_minor": 5
}
