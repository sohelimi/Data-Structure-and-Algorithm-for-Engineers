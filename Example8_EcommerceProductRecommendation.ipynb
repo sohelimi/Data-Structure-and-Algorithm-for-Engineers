{
 "cells": [
  {
   "cell_type": "markdown",
   "id": "fe764693",
   "metadata": {},
   "source": [
    "# Example 8: E-commerce Product Recommendation\n",
    "\n",
    "## Description:\n",
    "Recommending products based on user behavior and similarities."
   ]
  },
  {
   "cell_type": "markdown",
   "id": "2654c6c0",
   "metadata": {},
   "source": [
    "## Data Structure/Algorithm:\n",
    "Graph for representing relationships, and Greedy Algorithms for product selection."
   ]
  },
  {
   "cell_type": "markdown",
   "id": "5d64c40e",
   "metadata": {},
   "source": [
    "### Visual Representation:\n",
    "\n",
    "![Visualization](https://upload.wikimedia.org/wikipedia/commons/8/88/Graph_Product_Recommendation.svg)"
   ]
  },
  {
   "cell_type": "markdown",
   "id": "1634fb4e",
   "metadata": {},
   "source": [
    "## Implementation"
   ]
  },
  {
   "cell_type": "code",
   "execution_count": null,
   "id": "f0e67f6b",
   "metadata": {},
   "outputs": [],
   "source": [
    "\n",
    "from collections import defaultdict\n",
    "\n",
    "class ProductRecommendation:\n",
    "    def __init__(self):\n",
    "        self.graph = defaultdict(list)  # Graph to link users and products\n",
    "\n",
    "    def add_interaction(self, user, product):\n",
    "        self.graph[user].append(product)\n",
    "        self.graph[product].append(user)\n",
    "\n",
    "    def recommend_products(self, user):\n",
    "        products = set()\n",
    "        for neighbor in self.graph[user]:\n",
    "            if neighbor not in self.graph[user]:  # Avoid recommending already interacted products\n",
    "                products.update(self.graph[neighbor])\n",
    "        return products - set(self.graph[user])\n",
    "\n",
    "# Example usage\n",
    "recommender = ProductRecommendation()\n",
    "recommender.add_interaction(\"User1\", \"ProductA\")\n",
    "recommender.add_interaction(\"User1\", \"ProductB\")\n",
    "recommender.add_interaction(\"User2\", \"ProductB\")\n",
    "recommender.add_interaction(\"User2\", \"ProductC\")\n",
    "recommender.add_interaction(\"User3\", \"ProductA\")\n",
    "recommender.add_interaction(\"User3\", \"ProductC\")\n",
    "\n",
    "print(\"Recommendations for User1:\", recommender.recommend_products(\"User1\"))\n"
   ]
  },
  {
   "cell_type": "markdown",
   "id": "cb424606",
   "metadata": {},
   "source": [
    "## Quiz"
   ]
  },
  {
   "cell_type": "markdown",
   "id": "d26acd00",
   "metadata": {},
   "source": [
    "\n",
    "1. What is the purpose of using a graph for product recommendations?\n",
    "   - A. To represent relationships between users and products.\n",
    "   - B. To store product details.\n",
    "   - C. To calculate the shortest path between users.\n",
    "\n",
    "2. What type of algorithm can be used for selecting recommended products?\n",
    "   - A. Divide and Conquer\n",
    "   - B. Greedy Algorithm\n",
    "   - C. Backtracking\n",
    "\n",
    "### Answers:\n",
    "1. A. To represent relationships between users and products.\n",
    "2. B. Greedy Algorithm\n"
   ]
  },
  {
   "cell_type": "markdown",
   "id": "62ec8581",
   "metadata": {},
   "source": [
    "## Exercise"
   ]
  },
  {
   "cell_type": "markdown",
   "id": "343fc3a4",
   "metadata": {},
   "source": [
    "\n",
    "### Problem Statement:\n",
    "Design a product recommendation system that suggests new products to users based on shared interactions.\n",
    "\n",
    "### Example:\n",
    "Input:\n",
    "- User-Product Interactions: User1 -> [ProductA, ProductB], User2 -> [ProductB, ProductC], User3 -> [ProductA, ProductC].\n",
    "\n",
    "Output:\n",
    "- Recommendations for User1: [ProductC].\n"
   ]
  }
 ],
 "metadata": {},
 "nbformat": 4,
 "nbformat_minor": 5
}
