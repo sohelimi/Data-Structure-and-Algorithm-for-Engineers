{
 "cells": [
  {
   "cell_type": "markdown",
   "id": "b15e2dc3",
   "metadata": {},
   "source": [
    "# Example 7: Traffic Management System\n",
    "\n",
    "## Description:\n",
    "Simulate traffic lights at an intersection to manage vehicle queues."
   ]
  },
  {
   "cell_type": "markdown",
   "id": "0b7e65c5",
   "metadata": {},
   "source": [
    "## Data Structure/Algorithm:\n",
    "Queue for representing lanes of vehicles and time-based scheduling for traffic light transitions."
   ]
  },
  {
   "cell_type": "markdown",
   "id": "c707505f",
   "metadata": {},
   "source": [
    "### Visual Representation:\n",
    "\n",
    "![Visualization](https://upload.wikimedia.org/wikipedia/commons/2/23/Traffic_light_system.svg)"
   ]
  },
  {
   "cell_type": "markdown",
   "id": "a138bee7",
   "metadata": {},
   "source": [
    "## Implementation"
   ]
  },
  {
   "cell_type": "code",
   "execution_count": null,
   "id": "d1ed2e2e",
   "metadata": {},
   "outputs": [],
   "source": [
    "\n",
    "from collections import deque\n",
    "import time\n",
    "\n",
    "class TrafficLight:\n",
    "    def __init__(self):\n",
    "        self.lanes = {\"North\": deque(), \"South\": deque(), \"East\": deque(), \"West\": deque()}\n",
    "        self.current_green = \"North\"  # Start with North lane\n",
    "\n",
    "    def add_vehicle(self, lane, vehicle):\n",
    "        if lane in self.lanes:\n",
    "            self.lanes[lane].append(vehicle)\n",
    "            print(f\"Vehicle {vehicle} added to {lane} lane\")\n",
    "\n",
    "    def switch_light(self):\n",
    "        order = [\"North\", \"East\", \"South\", \"West\"]\n",
    "        self.current_green = order[(order.index(self.current_green) + 1) % len(order)]\n",
    "        print(f\"Green light is now on for {self.current_green} lane\")\n",
    "\n",
    "    def allow_vehicles_to_pass(self):\n",
    "        if self.lanes[self.current_green]:\n",
    "            vehicle = self.lanes[self.current_green].popleft()\n",
    "            print(f\"Vehicle {vehicle} passed from {self.current_green} lane\")\n",
    "        else:\n",
    "            print(f\"No vehicles in {self.current_green} lane\")\n",
    "\n",
    "    def simulate_traffic(self, cycles):\n",
    "        for _ in range(cycles):\n",
    "            self.allow_vehicles_to_pass()\n",
    "            time.sleep(1)  # Simulate time for vehicles to pass\n",
    "            self.switch_light()\n",
    "\n",
    "# Example usage\n",
    "traffic_light = TrafficLight()\n",
    "traffic_light.add_vehicle(\"North\", \"Car1\")\n",
    "traffic_light.add_vehicle(\"North\", \"Car2\")\n",
    "traffic_light.add_vehicle(\"East\", \"Truck1\")\n",
    "traffic_light.simulate_traffic(5)\n"
   ]
  },
  {
   "cell_type": "markdown",
   "id": "6455cc32",
   "metadata": {},
   "source": [
    "## Quiz"
   ]
  },
  {
   "cell_type": "markdown",
   "id": "919d6b84",
   "metadata": {},
   "source": [
    "\n",
    "1. What data structure is most suitable for managing vehicle queues in a traffic simulation?\n",
    "   - A. Stack\n",
    "   - B. Queue\n",
    "   - C. Priority Queue\n",
    "\n",
    "2. What is the time complexity of adding a vehicle to a lane's queue?\n",
    "   - A. O(1)\n",
    "   - B. O(log n)\n",
    "   - C. O(n)\n",
    "\n",
    "### Answers:\n",
    "1. B. Queue\n",
    "2. A. O(1)\n"
   ]
  },
  {
   "cell_type": "markdown",
   "id": "7ea56f1f",
   "metadata": {},
   "source": [
    "## Exercise"
   ]
  },
  {
   "cell_type": "markdown",
   "id": "794da763",
   "metadata": {},
   "source": [
    "\n",
    "### Problem Statement:\n",
    "Simulate traffic light transitions at an intersection and allow vehicles from one lane to pass at a time.\n",
    "\n",
    "### Example:\n",
    "Input:\n",
    "- Add vehicles: Car1 and Car2 in North lane, Truck1 in East lane.\n",
    "- Simulate 5 cycles of traffic light transitions.\n",
    "\n",
    "Output:\n",
    "- Vehicle movement in the order of light transitions.\n"
   ]
  }
 ],
 "metadata": {},
 "nbformat": 4,
 "nbformat_minor": 5
}
