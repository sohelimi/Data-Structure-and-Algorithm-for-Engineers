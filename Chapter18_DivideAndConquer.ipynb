{
 "cells": [
  {
   "cell_type": "markdown",
   "id": "181c022e",
   "metadata": {},
   "source": [
    "# Chapter 18: Divide and Conquer\n",
    "\n",
    "## Concept: Breaking a Problem into Sub-Problems\n",
    "\n",
    "The **Divide and Conquer** paradigm solves problems by recursively dividing them into smaller sub-problems, solving these sub-problems independently, and combining their solutions.\n",
    "\n",
    "### Key Steps:\n",
    "1. **Divide**: Break the problem into smaller sub-problems.\n",
    "2. **Conquer**: Solve each sub-problem recursively.\n",
    "3. **Combine**: Merge the solutions of sub-problems to solve the original problem.\n",
    "\n",
    "### Applications:\n",
    "1. Sorting Algorithms: Merge Sort, Quick Sort.\n",
    "2. Searching Algorithms: Binary Search.\n",
    "3. Matrix Multiplication: Strassen's Algorithm.\n"
   ]
  },
  {
   "cell_type": "markdown",
   "id": "b35adf04",
   "metadata": {},
   "source": [
    "### Visual Representation: Divide and Conquer\n",
    "\n",
    "Below is a visualization of how the Divide and Conquer paradigm works:\n",
    "\n",
    "![Divide and Conquer](https://upload.wikimedia.org/wikipedia/commons/6/6a/Divide-and-conquer-algorithm.png)\n",
    "\n",
    "This diagram shows how a problem is divided into smaller sub-problems, solved independently, and their solutions are combined.\n"
   ]
  },
  {
   "cell_type": "markdown",
   "id": "be32307a",
   "metadata": {},
   "source": [
    "## Implementation: Divide and Conquer Algorithms\n",
    "\n",
    "We will implement three algorithms that use Divide and Conquer: Merge Sort, Quick Sort, and Binary Search."
   ]
  },
  {
   "cell_type": "code",
   "execution_count": 1,
   "id": "e3a0a862",
   "metadata": {},
   "outputs": [
    {
     "name": "stdout",
     "output_type": "stream",
     "text": [
      "Merge Sort: [3, 9, 10, 27, 38, 43, 82]\n",
      "Quick Sort: [3, 9, 10, 27, 38, 43, 82]\n",
      "Binary Search for 27: 3\n"
     ]
    }
   ],
   "source": [
    "# Merge Sort\n",
    "def merge_sort(arr):\n",
    "    if len(arr) > 1:\n",
    "        mid = len(arr) // 2\n",
    "        L = arr[:mid]\n",
    "        R = arr[mid:]\n",
    "\n",
    "        merge_sort(L)\n",
    "        merge_sort(R)\n",
    "\n",
    "        i = j = k = 0\n",
    "        while i < len(L) and j < len(R):\n",
    "            if L[i] <= R[j]:\n",
    "                arr[k] = L[i]\n",
    "                i += 1\n",
    "            else:\n",
    "                arr[k] = R[j]\n",
    "                j += 1\n",
    "            k += 1\n",
    "\n",
    "        while i < len(L):\n",
    "            arr[k] = L[i]\n",
    "            i += 1\n",
    "            k += 1\n",
    "\n",
    "        while j < len(R):\n",
    "            arr[k] = R[j]\n",
    "            j += 1\n",
    "            k += 1\n",
    "\n",
    "# Quick Sort\n",
    "def quick_sort(arr):\n",
    "    if len(arr) <= 1:\n",
    "        return arr\n",
    "    pivot = arr[len(arr) // 2]\n",
    "    left = [x for x in arr if x < pivot]\n",
    "    middle = [x for x in arr if x == pivot]\n",
    "    right = [x for x in arr if x > pivot]\n",
    "    return quick_sort(left) + middle + quick_sort(right)\n",
    "\n",
    "# Binary Search\n",
    "def binary_search(arr, target):\n",
    "    left, right = 0, len(arr) - 1\n",
    "    while left <= right:\n",
    "        mid = (left + right) // 2\n",
    "        if arr[mid] == target:\n",
    "            return mid\n",
    "        elif arr[mid] < target:\n",
    "            left = mid + 1\n",
    "        else:\n",
    "            right = mid - 1\n",
    "    return -1\n",
    "\n",
    "# Example Usage\n",
    "arr = [38, 27, 43, 3, 9, 82, 10]\n",
    "merge_sort(arr)\n",
    "print(\"Merge Sort:\", arr)\n",
    "print(\"Quick Sort:\", quick_sort(arr))\n",
    "print(\"Binary Search for 27:\", binary_search(arr, 27))\n"
   ]
  },
  {
   "cell_type": "markdown",
   "id": "048bc85d",
   "metadata": {},
   "source": [
    "## Quiz\n",
    "\n",
    "1. Which step in Divide and Conquer involves solving smaller sub-problems?\n",
    "   - A. Divide\n",
    "   - B. Conquer\n",
    "   - C. Combine\n",
    "\n",
    "2. What is the time complexity of Merge Sort?\n",
    "   - A. O(n²)\n",
    "   - B. O(n log n)\n",
    "   - C. O(log n)\n",
    "\n",
    "3. Which algorithm uses Divide and Conquer to sort elements by partitioning?\n",
    "   - A. Merge Sort\n",
    "   - B. Quick Sort\n",
    "   - C. Binary Search\n",
    "\n",
    "### Answers:\n",
    "1. B. Conquer\n",
    "2. B. O(n log n)\n",
    "3. B. Quick Sort\n"
   ]
  },
  {
   "cell_type": "markdown",
   "id": "572de70c",
   "metadata": {},
   "source": [
    "## Exercise: Solve Matrix Multiplication Using Divide and Conquer\n",
    "\n",
    "### Problem Statement\n",
    "Write a function to multiply two matrices using Divide and Conquer (Strassen's Algorithm).\n",
    "\n",
    "### Example:\n",
    "Matrix A:\n",
    "```\n",
    "[[1, 2],\n",
    " [3, 4]]\n",
    "```\n",
    "Matrix B:\n",
    "```\n",
    "[[5, 6],\n",
    " [7, 8]]\n",
    "```\n",
    "Resultant Matrix:\n",
    "```\n",
    "[[19, 22],\n",
    " [43, 50]]\n",
    "```\n",
    "\n",
    "### Solution:\n"
   ]
  },
  {
   "cell_type": "code",
   "execution_count": 5,
   "id": "c5195d86",
   "metadata": {},
   "outputs": [
    {
     "name": "stdout",
     "output_type": "stream",
     "text": [
      "Matrix A: [[1 2]\n",
      " [3 4]]\n",
      "Matrix B: [[5 6]\n",
      " [7 8]]\n"
     ]
    },
    {
     "ename": "IndexError",
     "evalue": "index 0 is out of bounds for axis 0 with size 0",
     "output_type": "error",
     "traceback": [
      "\u001b[0;31m---------------------------------------------------------------------------\u001b[0m",
      "\u001b[0;31mIndexError\u001b[0m                                Traceback (most recent call last)",
      "Cell \u001b[0;32mIn[5], line 36\u001b[0m\n\u001b[1;32m     34\u001b[0m \u001b[38;5;28mprint\u001b[39m(\u001b[38;5;124m\"\u001b[39m\u001b[38;5;124mMatrix A:\u001b[39m\u001b[38;5;124m\"\u001b[39m, A)\n\u001b[1;32m     35\u001b[0m \u001b[38;5;28mprint\u001b[39m(\u001b[38;5;124m\"\u001b[39m\u001b[38;5;124mMatrix B:\u001b[39m\u001b[38;5;124m\"\u001b[39m, B)\n\u001b[0;32m---> 36\u001b[0m \u001b[38;5;28mprint\u001b[39m(\u001b[38;5;124m\"\u001b[39m\u001b[38;5;124mResultant Matrix:\u001b[39m\u001b[38;5;124m\"\u001b[39m, strassen_matrix_multiply(A, B))\n",
      "Cell \u001b[0;32mIn[5], line 14\u001b[0m, in \u001b[0;36mstrassen_matrix_multiply\u001b[0;34m(A, B)\u001b[0m\n\u001b[1;32m     11\u001b[0m A11, A12, A21, A22 \u001b[38;5;241m=\u001b[39m A[:mid][:mid], A[:mid][mid:], A[mid:][:mid], A[mid:][mid:]\n\u001b[1;32m     12\u001b[0m B11, B12, B21, B22 \u001b[38;5;241m=\u001b[39m B[:mid][:mid], B[:mid][mid:], B[mid:][:mid], B[mid:][mid:]\n\u001b[0;32m---> 14\u001b[0m M1 \u001b[38;5;241m=\u001b[39m strassen_matrix_multiply(A11, np\u001b[38;5;241m.\u001b[39msubtract(B12, B22))\n\u001b[1;32m     15\u001b[0m M2 \u001b[38;5;241m=\u001b[39m strassen_matrix_multiply(np\u001b[38;5;241m.\u001b[39madd(A11, A12), B22)\n\u001b[1;32m     16\u001b[0m M3 \u001b[38;5;241m=\u001b[39m strassen_matrix_multiply(np\u001b[38;5;241m.\u001b[39madd(A21, A22), B11)\n",
      "Cell \u001b[0;32mIn[5], line 6\u001b[0m, in \u001b[0;36mstrassen_matrix_multiply\u001b[0;34m(A, B)\u001b[0m\n\u001b[1;32m      4\u001b[0m \u001b[38;5;28;01mdef\u001b[39;00m \u001b[38;5;21mstrassen_matrix_multiply\u001b[39m(A, B):\n\u001b[1;32m      5\u001b[0m     \u001b[38;5;28;01mif\u001b[39;00m \u001b[38;5;28mlen\u001b[39m(A) \u001b[38;5;241m==\u001b[39m \u001b[38;5;241m1\u001b[39m:\n\u001b[0;32m----> 6\u001b[0m         \u001b[38;5;28;01mreturn\u001b[39;00m [[A[\u001b[38;5;241m0\u001b[39m][\u001b[38;5;241m0\u001b[39m] \u001b[38;5;241m*\u001b[39m B[\u001b[38;5;241m0\u001b[39m][\u001b[38;5;241m0\u001b[39m]]]\n\u001b[1;32m      8\u001b[0m     n \u001b[38;5;241m=\u001b[39m \u001b[38;5;28mlen\u001b[39m(A)\n\u001b[1;32m      9\u001b[0m     mid \u001b[38;5;241m=\u001b[39m n \u001b[38;5;241m/\u001b[39m\u001b[38;5;241m/\u001b[39m \u001b[38;5;241m2\u001b[39m\n",
      "\u001b[0;31mIndexError\u001b[0m: index 0 is out of bounds for axis 0 with size 0"
     ]
    }
   ],
   "source": [
    "# Matrix Multiplication Using Divide and Conquer\n",
    "import numpy as np\n",
    "\n",
    "def strassen_matrix_multiply(A, B):\n",
    "    if len(A) == 1:\n",
    "        return [[A[0][0] * B[0][0]]]\n",
    "\n",
    "    n = len(A)\n",
    "    mid = n // 2\n",
    "\n",
    "    A11, A12, A21, A22 = A[:mid][:mid], A[:mid][mid:], A[mid:][:mid], A[mid:][mid:]\n",
    "    B11, B12, B21, B22 = B[:mid][:mid], B[:mid][mid:], B[mid:][:mid], B[mid:][mid:]\n",
    "\n",
    "    M1 = strassen_matrix_multiply(A11, np.subtract(B12, B22))\n",
    "    M2 = strassen_matrix_multiply(np.add(A11, A12), B22)\n",
    "    M3 = strassen_matrix_multiply(np.add(A21, A22), B11)\n",
    "    M4 = strassen_matrix_multiply(A22, np.subtract(B21, B11))\n",
    "    M5 = strassen_matrix_multiply(np.add(A11, A22), np.add(B11, B22))\n",
    "    M6 = strassen_matrix_multiply(np.subtract(A12, A22), np.add(B21, B22))\n",
    "    M7 = strassen_matrix_multiply(np.subtract(A11, A21), np.add(B11, B12))\n",
    "\n",
    "    C11 = np.add(np.subtract(np.add(M5, M4), M2), M6)\n",
    "    C12 = np.add(M1, M2)\n",
    "    C21 = np.add(M3, M4)\n",
    "    C22 = np.add(np.subtract(np.add(M5, M1), M3), M7)\n",
    "\n",
    "    C = np.vstack((np.hstack((C11, C12)), np.hstack((C21, C22))))\n",
    "    return C\n",
    "\n",
    "\n",
    "# Example Usage\n",
    "A = np.array([[1, 2], [3, 4]])\n",
    "B = np.array([[5, 6], [7, 8]])\n",
    "print(\"Matrix A:\", A)\n",
    "print(\"Matrix B:\", B)\n",
    "print(\"Resultant Matrix:\", strassen_matrix_multiply(A, B))\n"
   ]
  },
  {
   "cell_type": "code",
   "execution_count": null,
   "id": "f8d62f87-4113-47c6-a23a-8f3cdc02eda4",
   "metadata": {},
   "outputs": [],
   "source": []
  }
 ],
 "metadata": {
  "kernelspec": {
   "display_name": "Python 3 (ipykernel)",
   "language": "python",
   "name": "python3"
  },
  "language_info": {
   "codemirror_mode": {
    "name": "ipython",
    "version": 3
   },
   "file_extension": ".py",
   "mimetype": "text/x-python",
   "name": "python",
   "nbconvert_exporter": "python",
   "pygments_lexer": "ipython3",
   "version": "3.11.7"
  }
 },
 "nbformat": 4,
 "nbformat_minor": 5
}
