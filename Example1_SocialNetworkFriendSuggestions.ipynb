{
 "cells": [
  {
   "cell_type": "markdown",
   "id": "8c9b8f13",
   "metadata": {},
   "source": [
    "# Example 1: Social Network Friend Suggestions\n",
    "\n",
    "## Description:\n",
    "A practical application of Graph Theory and BFS/DFS to find the shortest connection path between two users."
   ]
  },
  {
   "cell_type": "markdown",
   "id": "0ac9e523",
   "metadata": {},
   "source": [
    "## Data Structure/Algorithm:\n",
    "Graph representation of users as nodes and friendships as edges."
   ]
  },
  {
   "cell_type": "markdown",
   "id": "bf46be24",
   "metadata": {},
   "source": [
    "### Visual Representation:\n",
    "\n",
    "![Visualization](https://upload.wikimedia.org/wikipedia/commons/a/a2/Social_Network_Analysis_Visualization.png)"
   ]
  },
  {
   "cell_type": "markdown",
   "id": "b5358a29",
   "metadata": {},
   "source": [
    "## Implementation"
   ]
  },
  {
   "cell_type": "code",
   "execution_count": null,
   "id": "cc7b7dfa",
   "metadata": {},
   "outputs": [],
   "source": [
    "\n",
    "from collections import deque\n",
    "\n",
    "def suggest_friends(graph, user):\n",
    "    visited = set()\n",
    "    queue = deque([user])\n",
    "    suggestions = set()\n",
    "\n",
    "    while queue:\n",
    "        current = queue.popleft()\n",
    "        if current not in visited:\n",
    "            visited.add(current)\n",
    "            for friend in graph[current]:\n",
    "                if friend != user and friend not in visited:\n",
    "                    suggestions.add(friend)\n",
    "                    queue.append(friend)\n",
    "    return suggestions\n",
    "\n",
    "# Example usage\n",
    "social_network = {\n",
    "    'Alice': ['Bob', 'Charlie'],\n",
    "    'Bob': ['Alice', 'David', 'Eve'],\n",
    "    'Charlie': ['Alice', 'Eve'],\n",
    "    'David': ['Bob'],\n",
    "    'Eve': ['Bob', 'Charlie']\n",
    "}\n",
    "print(\"Friend suggestions for Alice:\", suggest_friends(social_network, 'Alice'))\n"
   ]
  },
  {
   "cell_type": "markdown",
   "id": "9c25fb23",
   "metadata": {},
   "source": [
    "## Quiz"
   ]
  },
  {
   "cell_type": "markdown",
   "id": "df6ae9dc",
   "metadata": {},
   "source": [
    "\n",
    "1. What data structure is most commonly used to represent a social network in graph algorithms?\n",
    "   - A. Queue\n",
    "   - B. Graph (Adjacency List or Matrix)\n",
    "   - C. Stack\n",
    "\n",
    "2. Which algorithm can efficiently find the shortest connection path between two users?\n",
    "   - A. Depth-First Search (DFS)\n",
    "   - B. Breadth-First Search (BFS)\n",
    "   - C. Dijkstra's Algorithm\n",
    "\n",
    "### Answers:\n",
    "1. B. Graph (Adjacency List or Matrix)\n",
    "2. B. Breadth-First Search (BFS)\n"
   ]
  },
  {
   "cell_type": "markdown",
   "id": "c0ad8fbb",
   "metadata": {},
   "source": [
    "## Exercise"
   ]
  },
  {
   "cell_type": "markdown",
   "id": "0e888b9b",
   "metadata": {},
   "source": [
    "\n",
    "### Problem Statement:\n",
    "Write a function to suggest friends for a given user in a social network.\n",
    "\n",
    "### Example:\n",
    "Input:\n",
    "- Graph: {'Alice': ['Bob', 'Charlie'], 'Bob': ['Alice', 'David'], 'Charlie': ['Alice'], 'David': ['Bob']}\n",
    "- User: 'Alice'\n",
    "\n",
    "Output:\n",
    "- Suggestions: {'David'}\n"
   ]
  }
 ],
 "metadata": {},
 "nbformat": 4,
 "nbformat_minor": 5
}
