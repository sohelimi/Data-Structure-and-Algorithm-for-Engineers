{
 "cells": [
  {
   "cell_type": "markdown",
   "id": "b5ff90cb",
   "metadata": {},
   "source": [
    "# Chapter 16: Searching Algorithms\n",
    "\n",
    "## Concept: Linear Search and Binary Search\n",
    "\n",
    "### Linear Search:\n",
    "1. **Definition**: Sequentially checks each element in the list until the target is found.\n",
    "2. **Time Complexity**: O(n).\n",
    "\n",
    "### Binary Search:\n",
    "1. **Definition**: Efficient algorithm for sorted data that repeatedly divides the search range in half.\n",
    "2. **Time Complexity**: O(log n).\n",
    "\n",
    "### Applications:\n",
    "1. **Data Retrieval**: Locating elements in arrays or sorted datasets.\n",
    "2. **Search Engines**: Optimized lookups in sorted data.\n"
   ]
  },
  {
   "cell_type": "markdown",
   "id": "e332e38e",
   "metadata": {},
   "source": [
    "### Visual Representation: Binary Search\n",
    "\n",
    "![Binary Search](https://upload.wikimedia.org/wikipedia/commons/8/83/Binary_search_into_array.png)\n",
    "\n",
    "This diagram demonstrates how binary search splits the array into halves to locate the target element."
   ]
  },
  {
   "cell_type": "markdown",
   "id": "fb7b8c31",
   "metadata": {},
   "source": [
    "## Implementation: Searching Algorithms\n",
    "\n",
    "We will implement Linear Search and Binary Search (iteratively and recursively)."
   ]
  },
  {
   "cell_type": "code",
   "execution_count": null,
   "id": "1e94beda",
   "metadata": {},
   "outputs": [],
   "source": [
    "# Linear Search\n",
    "def linear_search(arr, target):\n",
    "    for i, value in enumerate(arr):\n",
    "        if value == target:\n",
    "            return i\n",
    "    return -1\n",
    "\n",
    "# Binary Search (Iterative)\n",
    "def binary_search_iterative(arr, target):\n",
    "    left, right = 0, len(arr) - 1\n",
    "    while left <= right:\n",
    "        mid = (left + right) // 2\n",
    "        if arr[mid] == target:\n",
    "            return mid\n",
    "        elif arr[mid] < target:\n",
    "            left = mid + 1\n",
    "        else:\n",
    "            right = mid - 1\n",
    "    return -1\n",
    "\n",
    "# Binary Search (Recursive)\n",
    "def binary_search_recursive(arr, target, left, right):\n",
    "    if left > right:\n",
    "        return -1\n",
    "    mid = (left + right) // 2\n",
    "    if arr[mid] == target:\n",
    "        return mid\n",
    "    elif arr[mid] < target:\n",
    "        return binary_search_recursive(arr, target, mid + 1, right)\n",
    "    else:\n",
    "        return binary_search_recursive(arr, target, left, mid - 1)\n",
    "\n",
    "\n",
    "# Example Usage\n",
    "arr = [1, 3, 5, 7, 9, 11]\n",
    "target = 7\n",
    "\n",
    "print(\"Linear Search: Target found at index\", linear_search(arr, target))\n",
    "print(\"Binary Search (Iterative): Target found at index\", binary_search_iterative(arr, target))\n",
    "print(\"Binary Search (Recursive): Target found at index\", binary_search_recursive(arr, target, 0, len(arr) - 1))\n"
   ]
  },
  {
   "cell_type": "markdown",
   "id": "8b29fed4",
   "metadata": {},
   "source": [
    "## Quiz\n",
    "\n",
    "1. What is the time complexity of Linear Search?\n",
    "   - A. O(1)\n",
    "   - B. O(n)\n",
    "   - C. O(log n)\n",
    "\n",
    "2. What is the main requirement for using Binary Search?\n",
    "   - A. The array must be unsorted.\n",
    "   - B. The array must be sorted.\n",
    "   - C. The array must have unique elements.\n",
    "\n",
    "3. Which search algorithm is generally faster for large sorted datasets?\n",
    "   - A. Linear Search\n",
    "   - B. Binary Search\n",
    "\n",
    "### Answers:\n",
    "1. B. O(n)\n",
    "2. B. The array must be sorted.\n",
    "3. B. Binary Search\n"
   ]
  },
  {
   "cell_type": "markdown",
   "id": "812e990d",
   "metadata": {},
   "source": [
    "## Exercise: Find the First Occurrence of an Element\n",
    "\n",
    "### Problem Statement\n",
    "Write a function using Binary Search to find the first occurrence of an element in a sorted list.\n",
    "\n",
    "### Example:\n",
    "- List: `[1, 2, 2, 3, 4, 4, 4, 5]`\n",
    "- Target: `4`\n",
    "- Output: `4` (at index 4).\n",
    "\n",
    "### Solution:\n"
   ]
  },
  {
   "cell_type": "code",
   "execution_count": null,
   "id": "7e8edebb",
   "metadata": {},
   "outputs": [],
   "source": [
    "# Find First Occurrence Using Binary Search\n",
    "def find_first_occurrence(arr, target):\n",
    "    left, right = 0, len(arr) - 1\n",
    "    result = -1\n",
    "    while left <= right:\n",
    "        mid = (left + right) // 2\n",
    "        if arr[mid] == target:\n",
    "            result = mid\n",
    "            right = mid - 1  # Continue searching in the left half\n",
    "        elif arr[mid] < target:\n",
    "            left = mid + 1\n",
    "        else:\n",
    "            right = mid - 1\n",
    "    return result\n",
    "\n",
    "\n",
    "# Example Usage\n",
    "arr = [1, 2, 2, 3, 4, 4, 4, 5]\n",
    "target = 4\n",
    "print(\"First occurrence of\", target, \"is at index\", find_first_occurrence(arr, target))\n"
   ]
  }
 ],
 "metadata": {
  "kernelspec": {
   "display_name": "Python 3 (ipykernel)",
   "language": "python",
   "name": "python3"
  },
  "language_info": {
   "codemirror_mode": {
    "name": "ipython",
    "version": 3
   },
   "file_extension": ".py",
   "mimetype": "text/x-python",
   "name": "python",
   "nbconvert_exporter": "python",
   "pygments_lexer": "ipython3",
   "version": "3.11.7"
  }
 },
 "nbformat": 4,
 "nbformat_minor": 5
}
