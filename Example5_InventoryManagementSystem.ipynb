{
 "cells": [
  {
   "cell_type": "markdown",
   "id": "15fe13a2",
   "metadata": {},
   "source": [
    "# Example 5: Inventory Management System\n",
    "\n",
    "## Description:\n",
    "An inventory management tool for a small retail store."
   ]
  },
  {
   "cell_type": "markdown",
   "id": "0f602282",
   "metadata": {},
   "source": [
    "## Data Structure/Algorithm:\n",
    "Hash Table for quick access and Linked List for maintaining recently added or removed items."
   ]
  },
  {
   "cell_type": "markdown",
   "id": "bc0fdaae",
   "metadata": {},
   "source": [
    "### Visual Representation:\n",
    "\n",
    "![Visualization](https://upload.wikimedia.org/wikipedia/commons/7/71/Hash_table_5_0_1_1_1_1_1_LL.svg)"
   ]
  },
  {
   "cell_type": "markdown",
   "id": "17991d62",
   "metadata": {},
   "source": [
    "## Implementation"
   ]
  },
  {
   "cell_type": "code",
   "execution_count": null,
   "id": "5511a7da",
   "metadata": {},
   "outputs": [],
   "source": [
    "\n",
    "class InventoryItem:\n",
    "    def __init__(self, item_id, name, quantity):\n",
    "        self.item_id = item_id\n",
    "        self.name = name\n",
    "        self.quantity = quantity\n",
    "\n",
    "class InventoryManagement:\n",
    "    def __init__(self):\n",
    "        self.items = {}  # Hash table for quick access\n",
    "        self.recent_operations = []  # Linked list for tracking operations\n",
    "\n",
    "    def add_item(self, item_id, name, quantity):\n",
    "        if item_id in self.items:\n",
    "            self.items[item_id].quantity += quantity\n",
    "        else:\n",
    "            self.items[item_id] = InventoryItem(item_id, name, quantity)\n",
    "        self.recent_operations.append(f\"Added {quantity} of {name}\")\n",
    "\n",
    "    def remove_item(self, item_id, quantity):\n",
    "        if item_id in self.items and self.items[item_id].quantity >= quantity:\n",
    "            self.items[item_id].quantity -= quantity\n",
    "            if self.items[item_id].quantity == 0:\n",
    "                del self.items[item_id]\n",
    "            self.recent_operations.append(f\"Removed {quantity} of {self.items[item_id].name}\")\n",
    "        else:\n",
    "            print(\"Error: Insufficient quantity or item does not exist\")\n",
    "\n",
    "    def display_inventory(self):\n",
    "        for item_id, item in self.items.items():\n",
    "            print(f\"ID: {item_id}, Name: {item.name}, Quantity: {item.quantity}\")\n",
    "\n",
    "    def show_recent_operations(self):\n",
    "        for operation in self.recent_operations[-5:]:\n",
    "            print(operation)\n",
    "\n",
    "# Example usage\n",
    "inventory = InventoryManagement()\n",
    "inventory.add_item(101, \"Apple\", 50)\n",
    "inventory.add_item(102, \"Banana\", 30)\n",
    "inventory.remove_item(101, 10)\n",
    "inventory.display_inventory()\n",
    "inventory.show_recent_operations()\n"
   ]
  },
  {
   "cell_type": "markdown",
   "id": "7601caa4",
   "metadata": {},
   "source": [
    "## Quiz"
   ]
  },
  {
   "cell_type": "markdown",
   "id": "07db674c",
   "metadata": {},
   "source": [
    "\n",
    "1. What is the main advantage of using a hash table in an inventory system?\n",
    "   - A. Reduces memory usage.\n",
    "   - B. Allows quick access to items.\n",
    "   - C. Simplifies sorting.\n",
    "\n",
    "2. What type of data structure is suitable for tracking recent operations?\n",
    "   - A. Array\n",
    "   - B. Linked List\n",
    "   - C. Queue\n",
    "\n",
    "### Answers:\n",
    "1. B. Allows quick access to items.\n",
    "2. B. Linked List\n"
   ]
  },
  {
   "cell_type": "markdown",
   "id": "a80f7793",
   "metadata": {},
   "source": [
    "## Exercise"
   ]
  },
  {
   "cell_type": "markdown",
   "id": "ca5ed148",
   "metadata": {},
   "source": [
    "\n",
    "### Problem Statement:\n",
    "Design an inventory management system that supports adding, removing, and tracking inventory items efficiently.\n",
    "\n",
    "### Example:\n",
    "Input:\n",
    "- Operations: Add 50 apples, Add 30 bananas, Remove 10 apples.\n",
    "\n",
    "Output:\n",
    "- Current Inventory: {'Apple': 40, 'Banana': 30}\n",
    "- Recent Operations: ['Added 50 of Apple', 'Added 30 of Banana', 'Removed 10 of Apple']\n"
   ]
  }
 ],
 "metadata": {},
 "nbformat": 4,
 "nbformat_minor": 5
}
