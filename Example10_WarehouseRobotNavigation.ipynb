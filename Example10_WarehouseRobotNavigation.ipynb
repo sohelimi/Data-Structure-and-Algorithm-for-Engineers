{
 "cells": [
  {
   "cell_type": "markdown",
   "id": "13b92921",
   "metadata": {},
   "source": [
    "# Example 10: Warehouse Robot Navigation\n",
    "\n",
    "## Description:\n",
    "Automating robots to pick and place items in a warehouse."
   ]
  },
  {
   "cell_type": "markdown",
   "id": "7723dd7b",
   "metadata": {},
   "source": [
    "## Data Structure/Algorithm:\n",
    "Graphs for representing warehouse layout and A* Search Algorithm for optimal pathfinding."
   ]
  },
  {
   "cell_type": "markdown",
   "id": "919efba4",
   "metadata": {},
   "source": [
    "### Visual Representation:\n",
    "\n",
    "![Visualization](https://upload.wikimedia.org/wikipedia/commons/6/6f/Astar_example.gif)"
   ]
  },
  {
   "cell_type": "markdown",
   "id": "47bef736",
   "metadata": {},
   "source": [
    "## Implementation"
   ]
  },
  {
   "cell_type": "code",
   "execution_count": null,
   "id": "b57c17b7",
   "metadata": {},
   "outputs": [],
   "source": [
    "\n",
    "from heapq import heappop, heappush\n",
    "\n",
    "def a_star_search(graph, start, goal, h):\n",
    "    open_set = []\n",
    "    heappush(open_set, (0, start))\n",
    "    came_from = {}\n",
    "    g_score = {node: float(\"inf\") for node in graph}\n",
    "    g_score[start] = 0\n",
    "\n",
    "    while open_set:\n",
    "        _, current = heappop(open_set)\n",
    "\n",
    "        if current == goal:\n",
    "            path = []\n",
    "            while current in came_from:\n",
    "                path.append(current)\n",
    "                current = came_from[current]\n",
    "            path.append(start)\n",
    "            return path[::-1]\n",
    "\n",
    "        for neighbor, weight in graph[current].items():\n",
    "            tentative_g_score = g_score[current] + weight\n",
    "            if tentative_g_score < g_score[neighbor]:\n",
    "                came_from[neighbor] = current\n",
    "                g_score[neighbor] = tentative_g_score\n",
    "                f_score = tentative_g_score + h(neighbor)\n",
    "                heappush(open_set, (f_score, neighbor))\n",
    "\n",
    "    return []\n",
    "\n",
    "# Example usage\n",
    "warehouse_graph = {\n",
    "    \"A\": {\"B\": 1, \"C\": 3},\n",
    "    \"B\": {\"A\": 1, \"D\": 1},\n",
    "    \"C\": {\"A\": 3, \"D\": 1},\n",
    "    \"D\": {\"B\": 1, \"C\": 1, \"E\": 5},\n",
    "    \"E\": {\"D\": 5}\n",
    "}\n",
    "\n",
    "heuristic = lambda x: 0  # Simplified heuristic for demonstration\n",
    "start, goal = \"A\", \"E\"\n",
    "path = a_star_search(warehouse_graph, start, goal, heuristic)\n",
    "print(f\"Optimal path from {start} to {goal}: {path}\")\n"
   ]
  },
  {
   "cell_type": "markdown",
   "id": "c5013e22",
   "metadata": {},
   "source": [
    "## Quiz"
   ]
  },
  {
   "cell_type": "markdown",
   "id": "f25db41d",
   "metadata": {},
   "source": [
    "\n",
    "1. What type of data structure is used to represent the warehouse layout in this example?\n",
    "   - A. Adjacency Matrix\n",
    "   - B. Graph (Adjacency List)\n",
    "   - C. Linked List\n",
    "\n",
    "2. What is the main advantage of the A* Search Algorithm?\n",
    "   - A. It guarantees the shortest path using a heuristic function.\n",
    "   - B. It is faster than Dijkstra's Algorithm in all cases.\n",
    "   - C. It avoids using a priority queue.\n",
    "\n",
    "### Answers:\n",
    "1. B. Graph (Adjacency List)\n",
    "2. A. It guarantees the shortest path using a heuristic function.\n"
   ]
  },
  {
   "cell_type": "markdown",
   "id": "3edc9c7d",
   "metadata": {},
   "source": [
    "## Exercise"
   ]
  },
  {
   "cell_type": "markdown",
   "id": "6ef1a6f3",
   "metadata": {},
   "source": [
    "\n",
    "### Problem Statement:\n",
    "Write a program using the A* Search Algorithm to find the optimal path for a robot navigating a warehouse.\n",
    "\n",
    "### Example:\n",
    "Input:\n",
    "- Warehouse Layout: Represented as a graph.\n",
    "- Start: \"A\", Goal: \"E\".\n",
    "\n",
    "Output:\n",
    "- Optimal Path: ['A', 'B', 'D', 'E']\n"
   ]
  }
 ],
 "metadata": {},
 "nbformat": 4,
 "nbformat_minor": 5
}
