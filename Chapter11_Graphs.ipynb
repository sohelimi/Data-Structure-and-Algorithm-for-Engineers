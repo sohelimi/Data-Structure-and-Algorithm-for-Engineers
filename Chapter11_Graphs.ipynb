{
 "cells": [
  {
   "cell_type": "markdown",
   "id": "c39cb860",
   "metadata": {},
   "source": [
    "# Chapter 11: Graphs\n",
    "\n",
    "## Concept: Graph Representation and Types\n",
    "\n",
    "A **graph** is a collection of nodes (**vertices**) connected by edges. Graphs are widely used to model real-world relationships, such as social networks and road maps.\n",
    "\n",
    "### Graph Representations:\n",
    "1. **Adjacency Matrix**:\n",
    "   - A 2D array where `matrix[i][j]` indicates the presence or weight of an edge between nodes `i` and `j`.\n",
    "   - Memory usage: O(V²), where V is the number of vertices.\n",
    "2. **Adjacency List**:\n",
    "   - A list where each vertex maintains a list of its neighbors.\n",
    "   - Memory usage: O(V + E), where E is the number of edges.\n",
    "\n",
    "### Types of Graphs:\n",
    "1. **Directed** vs. **Undirected**:\n",
    "   - Directed: Edges have a direction (A → B).\n",
    "   - Undirected: Edges have no direction (A ↔ B).\n",
    "2. **Weighted** vs. **Unweighted**:\n",
    "   - Weighted: Edges have a cost or weight.\n",
    "   - Unweighted: All edges have equal weight.\n",
    "\n",
    "### Applications:\n",
    "- **Social Networks**: Modeling user connections, recommendations.\n",
    "- **Maps**: Shortest path, navigation, connectivity.\n"
   ]
  },
  {
   "cell_type": "markdown",
   "id": "2035ca57",
   "metadata": {},
   "source": [
    "### Visual Representation: Graph Representation\n",
    "\n",
    "![Graph Representation](https://upload.wikimedia.org/wikipedia/commons/5/5b/6n-graf.svg)\n",
    "\n",
    "This diagram shows a simple undirected graph with 6 nodes and its adjacency matrix."
   ]
  },
  {
   "cell_type": "markdown",
   "id": "24e4117f",
   "metadata": {},
   "source": [
    "## Implementation: Graph Representation and Traversals\n",
    "\n",
    "We will represent graphs using both adjacency matrix and adjacency list. Then, we will implement BFS and DFS traversal methods."
   ]
  },
  {
   "cell_type": "code",
   "execution_count": null,
   "id": "4e87ddb8",
   "metadata": {},
   "outputs": [],
   "source": [
    "# Graph Representation and Traversal Implementation\n",
    "from collections import defaultdict, deque\n",
    "\n",
    "class Graph:\n",
    "    def __init__(self):\n",
    "        self.adj_list = defaultdict(list)\n",
    "\n",
    "    def add_edge(self, u, v, directed=False):\n",
    "        self.adj_list[u].append(v)\n",
    "        if not directed:\n",
    "            self.adj_list[v].append(u)\n",
    "\n",
    "    def bfs(self, start):\n",
    "        visited = set()\n",
    "        queue = deque([start])\n",
    "        result = []\n",
    "\n",
    "        while queue:\n",
    "            vertex = queue.popleft()\n",
    "            if vertex not in visited:\n",
    "                visited.add(vertex)\n",
    "                result.append(vertex)\n",
    "                queue.extend(neighbor for neighbor in self.adj_list[vertex] if neighbor not in visited)\n",
    "\n",
    "        return result\n",
    "\n",
    "    def dfs(self, start):\n",
    "        visited = set()\n",
    "        result = []\n",
    "\n",
    "        def _dfs(node):\n",
    "            if node not in visited:\n",
    "                visited.add(node)\n",
    "                result.append(node)\n",
    "                for neighbor in self.adj_list[node]:\n",
    "                    _dfs(neighbor)\n",
    "\n",
    "        _dfs(start)\n",
    "        return result\n",
    "\n",
    "    def display(self):\n",
    "        for node, neighbors in self.adj_list.items():\n",
    "            print(f\"{node}: {neighbors}\")\n",
    "\n",
    "\n",
    "# Example Usage\n",
    "graph = Graph()\n",
    "edges = [(0, 1), (0, 2), (1, 2), (1, 3), (3, 4), (4, 5)]\n",
    "\n",
    "for u, v in edges:\n",
    "    graph.add_edge(u, v)\n",
    "\n",
    "print(\"Graph Representation (Adjacency List):\")\n",
    "graph.display()\n",
    "\n",
    "print(\"\n",
    "BFS Traversal from Node 0:\", graph.bfs(0))\n",
    "print(\"DFS Traversal from Node 0:\", graph.dfs(0))\n"
   ]
  },
  {
   "cell_type": "markdown",
   "id": "de8abbaa",
   "metadata": {},
   "source": [
    "## Quiz\n",
    "\n",
    "1. Which graph representation uses more memory for sparse graphs?\n",
    "   - A. Adjacency Matrix\n",
    "   - B. Adjacency List\n",
    "\n",
    "2. Which traversal visits all vertices at the same level before moving deeper?\n",
    "   - A. DFS\n",
    "   - B. BFS\n",
    "\n",
    "3. In an undirected graph with V vertices and E edges, what is the memory usage of an adjacency list?\n",
    "   - A. O(V²)\n",
    "   - B. O(V + E)\n",
    "   - C. O(E²)\n",
    "\n",
    "### Answers:\n",
    "1. A. Adjacency Matrix\n",
    "2. B. BFS\n",
    "3. B. O(V + E)\n"
   ]
  },
  {
   "cell_type": "markdown",
   "id": "08aaea9f",
   "metadata": {},
   "source": [
    "## Exercise: Implement BFS and DFS Traversals\n",
    "\n",
    "### Problem Statement\n",
    "Write functions to perform BFS and DFS traversals on a graph represented using an adjacency list. Test the functions on the following graph:\n",
    "\n",
    "- Nodes: {0, 1, 2, 3, 4, 5}\n",
    "- Edges: {(0, 1), (0, 2), (1, 2), (1, 3), (3, 4), (4, 5)}\n",
    "\n",
    "### Example:\n",
    "- BFS starting from node 0: [0, 1, 2, 3, 4, 5]\n",
    "- DFS starting from node 0: [0, 1, 2, 3, 4, 5]\n"
   ]
  },
  {
   "cell_type": "code",
   "execution_count": null,
   "id": "b06d9a2d",
   "metadata": {},
   "outputs": [],
   "source": [
    "# BFS and DFS Traversals\n",
    "graph = Graph()\n",
    "edges = [(0, 1), (0, 2), (1, 2), (1, 3), (3, 4), (4, 5)]\n",
    "\n",
    "for u, v in edges:\n",
    "    graph.add_edge(u, v)\n",
    "\n",
    "print(\"BFS Traversal from Node 0:\", graph.bfs(0))\n",
    "print(\"DFS Traversal from Node 0:\", graph.dfs(0))\n"
   ]
  }
 ],
 "metadata": {
  "kernelspec": {
   "display_name": "Python 3 (ipykernel)",
   "language": "python",
   "name": "python3"
  },
  "language_info": {
   "codemirror_mode": {
    "name": "ipython",
    "version": 3
   },
   "file_extension": ".py",
   "mimetype": "text/x-python",
   "name": "python",
   "nbconvert_exporter": "python",
   "pygments_lexer": "ipython3",
   "version": "3.11.7"
  }
 },
 "nbformat": 4,
 "nbformat_minor": 5
}
