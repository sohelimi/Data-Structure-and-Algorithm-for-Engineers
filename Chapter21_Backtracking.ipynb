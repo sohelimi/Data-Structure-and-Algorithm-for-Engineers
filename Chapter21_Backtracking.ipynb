{
 "cells": [
  {
   "cell_type": "markdown",
   "id": "ec8bbead",
   "metadata": {},
   "source": [
    "# Chapter 21: Backtracking\n",
    "\n",
    "## Concept: Systematic Search for a Solution\n",
    "\n",
    "**Backtracking** is a recursive algorithmic technique used to solve problems by building solutions incrementally and abandoning partial solutions that fail to satisfy the constraints.\n",
    "\n",
    "### Key Idea:\n",
    "1. **Explore all options** systematically.\n",
    "2. **Backtrack** when a solution is invalid.\n",
    "3. Continue until all possible solutions are explored.\n",
    "\n",
    "### Applications:\n",
    "1. N-Queens Problem.\n",
    "2. Subset Sum Problem.\n",
    "3. Sudoku Solver.\n"
   ]
  },
  {
   "cell_type": "markdown",
   "id": "6682b18b",
   "metadata": {},
   "source": [
    "### Visual Representation: Backtracking\n",
    "\n",
    "Below is a visualization of the N-Queens problem solved using backtracking:\n",
    "\n",
    "![Backtracking Visualization](https://upload.wikimedia.org/wikipedia/commons/1/1f/Eight-queens-animation.gif)\n",
    "\n",
    "This animation demonstrates how backtracking systematically places queens on the board and backtracks when no valid placement is possible.\n"
   ]
  },
  {
   "cell_type": "markdown",
   "id": "f49b6643",
   "metadata": {},
   "source": [
    "## Implementation: N-Queens Problem\n",
    "\n",
    "We will solve the N-Queens problem using backtracking. The goal is to place `N` queens on an `N x N` chessboard such that no two queens threaten each other."
   ]
  },
  {
   "cell_type": "code",
   "execution_count": null,
   "id": "2dcd8e79",
   "metadata": {},
   "outputs": [],
   "source": [
    "# N-Queens Problem\n",
    "def is_safe(board, row, col, n):\n",
    "    # Check the current column\n",
    "    for i in range(row):\n",
    "        if board[i][col] == 1:\n",
    "            return False\n",
    "\n",
    "    # Check the upper-left diagonal\n",
    "    for i, j in zip(range(row, -1, -1), range(col, -1, -1)):\n",
    "        if board[i][j] == 1:\n",
    "            return False\n",
    "\n",
    "    # Check the upper-right diagonal\n",
    "    for i, j in zip(range(row, -1, -1), range(col, n)):\n",
    "        if board[i][j] == 1:\n",
    "            return False\n",
    "\n",
    "    return True\n",
    "\n",
    "def solve_n_queens_util(board, row, n, solutions):\n",
    "    if row >= n:\n",
    "        solutions.append([\"\".join(\"Q\" if cell else \".\" for cell in row) for row in board])\n",
    "        return\n",
    "\n",
    "    for col in range(n):\n",
    "        if is_safe(board, row, col, n):\n",
    "            board[row][col] = 1\n",
    "            solve_n_queens_util(board, row + 1, n, solutions)\n",
    "            board[row][col] = 0  # Backtrack\n",
    "\n",
    "def solve_n_queens(n):\n",
    "    board = [[0 for _ in range(n)] for _ in range(n)]\n",
    "    solutions = []\n",
    "    solve_n_queens_util(board, 0, n, solutions)\n",
    "    return solutions\n",
    "\n",
    "# Example Usage\n",
    "n = 4\n",
    "solutions = solve_n_queens(n)\n",
    "print(f\"Number of solutions for {n}-Queens:\", len(solutions))\n",
    "for solution in solutions:\n",
    "    for row in solution:\n",
    "        print(row)\n",
    "    print()\n"
   ]
  },
  {
   "cell_type": "markdown",
   "id": "7edf7084",
   "metadata": {},
   "source": [
    "## Implementation: Subset Sum Problem\n",
    "\n",
    "We will solve the Subset Sum problem using backtracking. The goal is to find all subsets of a set that sum to a given target value."
   ]
  },
  {
   "cell_type": "code",
   "execution_count": null,
   "id": "274c1fea",
   "metadata": {},
   "outputs": [],
   "source": [
    "# Subset Sum Problem\n",
    "def subset_sum(nums, target):\n",
    "    def backtrack(start, path, total):\n",
    "        if total == target:\n",
    "            results.append(list(path))\n",
    "            return\n",
    "        if total > target:\n",
    "            return\n",
    "\n",
    "        for i in range(start, len(nums)):\n",
    "            path.append(nums[i])\n",
    "            backtrack(i + 1, path, total + nums[i])\n",
    "            path.pop()\n",
    "\n",
    "    results = []\n",
    "    backtrack(0, [], 0)\n",
    "    return results\n",
    "\n",
    "# Example Usage\n",
    "nums = [2, 3, 5, 7]\n",
    "target = 10\n",
    "print(\"Subsets that sum to\", target, \":\", subset_sum(nums, target))\n"
   ]
  },
  {
   "cell_type": "markdown",
   "id": "c476fc2a",
   "metadata": {},
   "source": [
    "## Quiz\n",
    "\n",
    "1. What is the key idea behind backtracking?\n",
    "   - A. Solve problems iteratively.\n",
    "   - B. Explore all possible options and backtrack when a solution is invalid.\n",
    "   - C. Use dynamic programming to optimize solutions.\n",
    "\n",
    "2. Which of the following is NOT an example of a backtracking problem?\n",
    "   - A. N-Queens Problem\n",
    "   - B. Fibonacci Sequence\n",
    "   - C. Subset Sum Problem\n",
    "\n",
    "3. What does backtracking rely on to explore solutions?\n",
    "   - A. Memoization\n",
    "   - B. Recursion\n",
    "   - C. Iteration\n",
    "\n",
    "### Answers:\n",
    "1. B. Explore all possible options and backtrack when a solution is invalid.\n",
    "2. B. Fibonacci Sequence\n",
    "3. B. Recursion\n"
   ]
  },
  {
   "cell_type": "markdown",
   "id": "5c3cf060",
   "metadata": {},
   "source": [
    "## Exercise: Find All Subsets Using Backtracking\n",
    "\n",
    "### Problem Statement\n",
    "Write a backtracking function to generate all subsets of a given set.\n",
    "\n",
    "### Example:\n",
    "Input: `[1, 2, 3]`\n",
    "Output:\n",
    "```\n",
    "[\n",
    "  [],\n",
    "  [1],\n",
    "  [2],\n",
    "  [3],\n",
    "  [1, 2],\n",
    "  [1, 3],\n",
    "  [2, 3],\n",
    "  [1, 2, 3]\n",
    "]\n",
    "```\n",
    "### Solution:\n"
   ]
  },
  {
   "cell_type": "code",
   "execution_count": null,
   "id": "4dd320ac",
   "metadata": {},
   "outputs": [],
   "source": [
    "# Find All Subsets Using Backtracking\n",
    "def find_all_subsets(nums):\n",
    "    def backtrack(start, path):\n",
    "        results.append(list(path))\n",
    "        for i in range(start, len(nums)):\n",
    "            path.append(nums[i])\n",
    "            backtrack(i + 1, path)\n",
    "            path.pop()\n",
    "\n",
    "    results = []\n",
    "    backtrack(0, [])\n",
    "    return results\n",
    "\n",
    "# Example Usage\n",
    "nums = [1, 2, 3]\n",
    "print(\"All subsets:\", find_all_subsets(nums))\n"
   ]
  }
 ],
 "metadata": {
  "kernelspec": {
   "display_name": "Python 3 (ipykernel)",
   "language": "python",
   "name": "python3"
  },
  "language_info": {
   "codemirror_mode": {
    "name": "ipython",
    "version": 3
   },
   "file_extension": ".py",
   "mimetype": "text/x-python",
   "name": "python",
   "nbconvert_exporter": "python",
   "pygments_lexer": "ipython3",
   "version": "3.11.7"
  }
 },
 "nbformat": 4,
 "nbformat_minor": 5
}
