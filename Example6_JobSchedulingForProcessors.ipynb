{
 "cells": [
  {
   "cell_type": "markdown",
   "id": "21f8bcfd",
   "metadata": {},
   "source": [
    "# Example 6: Job Scheduling for Processors\n",
    "\n",
    "## Description:\n",
    "A system to allocate CPU time to different processes."
   ]
  },
  {
   "cell_type": "markdown",
   "id": "91d7ae7c",
   "metadata": {},
   "source": [
    "## Data Structure/Algorithm:\n",
    "Priority Queue implemented with a Heap for efficient scheduling."
   ]
  },
  {
   "cell_type": "markdown",
   "id": "d40ffd1d",
   "metadata": {},
   "source": [
    "### Visual Representation:\n",
    "\n",
    "![Visualization](https://upload.wikimedia.org/wikipedia/commons/6/69/Min-heap.svg)"
   ]
  },
  {
   "cell_type": "markdown",
   "id": "d35f58db",
   "metadata": {},
   "source": [
    "## Implementation"
   ]
  },
  {
   "cell_type": "code",
   "execution_count": null,
   "id": "8c9e87e3",
   "metadata": {},
   "outputs": [],
   "source": [
    "\n",
    "import heapq\n",
    "\n",
    "class JobScheduler:\n",
    "    def __init__(self):\n",
    "        self.priority_queue = []  # Min-heap to manage jobs\n",
    "\n",
    "    def add_job(self, job_id, priority):\n",
    "        heapq.heappush(self.priority_queue, (priority, job_id))\n",
    "\n",
    "    def execute_job(self):\n",
    "        if self.priority_queue:\n",
    "            priority, job_id = heapq.heappop(self.priority_queue)\n",
    "            print(f\"Executing job {job_id} with priority {priority}\")\n",
    "        else:\n",
    "            print(\"No jobs to execute\")\n",
    "\n",
    "    def display_jobs(self):\n",
    "        print(\"Jobs in the queue:\")\n",
    "        for priority, job_id in sorted(self.priority_queue):\n",
    "            print(f\"Job {job_id} with priority {priority}\")\n",
    "\n",
    "# Example usage\n",
    "scheduler = JobScheduler()\n",
    "scheduler.add_job(\"Job1\", 3)\n",
    "scheduler.add_job(\"Job2\", 1)\n",
    "scheduler.add_job(\"Job3\", 2)\n",
    "scheduler.display_jobs()\n",
    "scheduler.execute_job()\n",
    "scheduler.display_jobs()\n"
   ]
  },
  {
   "cell_type": "markdown",
   "id": "4fc1a507",
   "metadata": {},
   "source": [
    "## Quiz"
   ]
  },
  {
   "cell_type": "markdown",
   "id": "95e0f472",
   "metadata": {},
   "source": [
    "\n",
    "1. What is the main advantage of using a min-heap for job scheduling?\n",
    "   - A. Fast insertion of jobs.\n",
    "   - B. Efficient retrieval of the highest-priority job.\n",
    "   - C. Reduced memory usage.\n",
    "\n",
    "2. What is the time complexity of adding a job to the priority queue?\n",
    "   - A. O(1)\n",
    "   - B. O(log n)\n",
    "   - C. O(n)\n",
    "\n",
    "### Answers:\n",
    "1. B. Efficient retrieval of the highest-priority job.\n",
    "2. B. O(log n)\n"
   ]
  },
  {
   "cell_type": "markdown",
   "id": "40633e12",
   "metadata": {},
   "source": [
    "## Exercise"
   ]
  },
  {
   "cell_type": "markdown",
   "id": "603d56cc",
   "metadata": {},
   "source": [
    "\n",
    "### Problem Statement:\n",
    "Design a job scheduler that assigns CPU time to the process with the highest priority.\n",
    "\n",
    "### Example:\n",
    "Input:\n",
    "- Add jobs: Job1 with priority 3, Job2 with priority 1, Job3 with priority 2.\n",
    "- Execute jobs in order of priority.\n",
    "\n",
    "Output:\n",
    "- Execution order: Job2, Job3, Job1\n"
   ]
  }
 ],
 "metadata": {},
 "nbformat": 4,
 "nbformat_minor": 5
}
